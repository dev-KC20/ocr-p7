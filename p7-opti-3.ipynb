{
 "cells": [
  {
   "cell_type": "markdown",
   "id": "20c24205",
   "metadata": {},
   "source": [
    "\n",
    "## P7: Résolvez des problèmes en utilisant des algorithmes en Python #3\n",
    "\n",
    "\n",
    "Dans le 2nd jeu d'essai de la mission, il y a 956 actions ; l'explosion combinatoire rend impossible le traitement car il existerait 6.090821257124996 e+287 combinaisons.\n",
    "\n",
    "Il faut donc procéder autrement.\n",
    "L'algorithme du sac à dos où l'on parcourt un arbre des cas possibles en décidant de prendre ou non une action peut être optimisé.\n",
    "\n",
    "\n",
    "\n",
    "### 1. Préparation des données\n",
    "\n"
   ]
  },
  {
   "cell_type": "code",
   "execution_count": 1,
   "id": "bf958757",
   "metadata": {},
   "outputs": [],
   "source": [
    "import csv as csv\n",
    "import re as re\n",
    "import time\n",
    "\n"
   ]
  },
  {
   "cell_type": "code",
   "execution_count": 2,
   "id": "2268135b",
   "metadata": {},
   "outputs": [],
   "source": [
    "try:\n",
    "    import big_o\n",
    "except ModuleNotFoundError:\n",
    "    print('cherche',ModuleNotFoundError)\n",
    "    !pip install --upgrade pip\n",
    "    !pip install big_o\n",
    "    import big_o"
   ]
  },
  {
   "cell_type": "code",
   "execution_count": 3,
   "id": "9620746e",
   "metadata": {},
   "outputs": [],
   "source": [
    "# constant\n",
    "FILE = \"data/p7-20-shares.csv\" \n",
    "FIELDNAMES = ['name', 'cost', 'profit_share', 'profit']\n",
    "\n",
    "\n",
    "BUDGET = 50000"
   ]
  },
  {
   "cell_type": "code",
   "execution_count": 4,
   "id": "3a9efc65-0b08-488e-86bb-112e2986b3cb",
   "metadata": {},
   "outputs": [],
   "source": [
    " def fn_timer(function):\n",
    "        \n",
    "#    @wraps(function)\n",
    "    def function_timer(*args, **kwargs):\n",
    "        t0 = time.perf_counter_ns()\n",
    "        result = function(*args, **kwargs)\n",
    "        t1 = time.perf_counter_ns()\n",
    "        elapsed = (t1-t0)/1000000000\n",
    "        print(f\"Total time running {function.__name__}: {str(elapsed)}s seconds\")\n",
    "        return result\n",
    "    return function_timer"
   ]
  },
  {
   "cell_type": "code",
   "execution_count": 5,
   "id": "9a0ce587",
   "metadata": {},
   "outputs": [],
   "source": [
    "# nettoyer les données des fichiers en entrée\n",
    "def clean_char(texte: str) -> str:\n",
    "    \"\"\" on ne conserve que les caractères lisibles \n",
    "    les lettres, chiffres, ponctuations décimales et signes\n",
    "    les valeurs negatives sont acceptées, du point de vue profit.\n",
    "    \"\"\"\n",
    "    texte_propre = re.sub(r\"[^a-zA-Z0-9\\-\\.\\,\\+]\", \"\", texte.replace(',','.'))\n",
    "    return texte_propre"
   ]
  },
  {
   "cell_type": "markdown",
   "id": "915495c6",
   "metadata": {},
   "source": [
    "\n",
    "### 2. Amélioration des données\n",
    "\n",
    "Sur python le travail avec float est plus couteux qu'en entier.\n",
    "Une solution est alors de multiplier par 100 cout, budget et profit car cela ne change pas\n",
    "le résultat.\n"
   ]
  },
  {
   "cell_type": "code",
   "execution_count": 6,
   "id": "ec44e90f",
   "metadata": {},
   "outputs": [],
   "source": [
    "\"\"\" lecture, nettoyage et chargement en dict.\n",
    "    les non valeurs NaN sont rejetées.\n",
    "\"\"\"\n",
    "action_dict = {}\n",
    "try:\n",
    "    with open(FILE, \"r\", newline='', encoding='utf-8') as file:\n",
    "        csv_reader = csv.DictReader(file, fieldnames=FIELDNAMES, \n",
    "                                    delimiter=';', doublequote=False)\n",
    "        # skip the header\n",
    "        next(csv_reader)\n",
    "        for idx, line in enumerate(csv_reader):\n",
    "            clean_data = True\n",
    "            if line[FIELDNAMES[0]] != \"\":\n",
    "                cle = clean_char(line[FIELDNAMES[0]])\n",
    "            else:\n",
    "                print(f\" line {idx} had missing share name; dropped.\")\n",
    "                clean_data = False\n",
    "            if line[FIELDNAMES[1]] != \"\":\n",
    "                cout = 100 * int(clean_char(line[FIELDNAMES[1]]))\n",
    "            else:\n",
    "                print(f\" line {idx} had missing cost data; dropped.\")\n",
    "                clean_data = False\n",
    "            if line[FIELDNAMES[3]] != \"\":\n",
    "                gain = int(100 * float(clean_char(line[FIELDNAMES[3]])))\n",
    "            else:\n",
    "                print(f\" line {idx} had missing profit data; dropped.\")\n",
    "                clean_data = False\n",
    "            if (gain < 0) or (cout < 0):\n",
    "                print(f\" line {idx} had negative value; accepted but pls check.\")\n",
    "            if (clean_data):\n",
    "                action_dict[cle] = (cout, gain)\n",
    "except FileNotFoundError:\n",
    "    print(f\" fichier non trouvé, Merci de vérifier son nom {file_name} : {FileNotFoundError}\")            \n",
    "except IOError:\n",
    "    print(f\" une erreur est survenue à l'écriture du fichier {file_name} : {IOError}\")            \n"
   ]
  },
  {
   "cell_type": "code",
   "execution_count": 7,
   "id": "2eb5202e",
   "metadata": {},
   "outputs": [
    {
     "data": {
      "text/plain": [
       "{'Action-1': (2000, 100),\n",
       " 'Action-2': (3000, 300),\n",
       " 'Action-3': (5000, 750),\n",
       " 'Action-4': (7000, 1400),\n",
       " 'Action-5': (6000, 1019),\n",
       " 'Action-6': (8000, 2000),\n",
       " 'Action-7': (2200, 154),\n",
       " 'Action-8': (2600, 286),\n",
       " 'Action-9': (4800, 624),\n",
       " 'Action-10': (3400, 918),\n",
       " 'Action-11': (4200, 714),\n",
       " 'Action-12': (11000, 990),\n",
       " 'Action-13': (3800, 874),\n",
       " 'Action-14': (1400, 14),\n",
       " 'Action-15': (1800, 54),\n",
       " 'Action-16': (800, 64),\n",
       " 'Action-17': (400, 48),\n",
       " 'Action-18': (1000, 140),\n",
       " 'Action-19': (2400, 504),\n",
       " 'Action-20': (11400, 2052)}"
      ]
     },
     "execution_count": 7,
     "metadata": {},
     "output_type": "execute_result"
    }
   ],
   "source": [
    "action_dict\n",
    "                "
   ]
  },
  {
   "cell_type": "markdown",
   "id": "3522c75e-e106-48b8-9ae0-ec57da181826",
   "metadata": {},
   "source": [
    "### 3. Résolution en force brute récurrente (pour mémoire):\n",
    "si on considère l'ensemble des 'actions' du porte-feuille potentiel, il existe de multiples combinaisons d''action'. Parmi toutes les combinaisons dont le cout est inférieur au budget d'investissement, l'une d'entre elles est optimale car elle fournit le plus grand profit.\n",
    "\n",
    "\n",
    "Maintenant quand on prend une 'action' au hasard,\n",
    "soit on selectionne cette 'action' comme partie de la solution\n",
    "soit on ne la selectionne pas.\n",
    "\n",
    "Quand on selectionne une 'action', il faut exprimer la valeur et le cout du porte-feuille en fonction de sa valeur avant sélection (pour introduire de la récurrence avec n fonction de n-1).\n",
    "valeur(pf(i)) = valeur(pf(i-1)) + valeur(action(i))\n",
    "cout(pf(i)) = cout(pf(i-1)) + cout(action(i))\n",
    "ou avec un cout exprimé en budget restant:\n",
    "budget_restant(pf(i)) = budget_restant(pf(i-1)) - cout(action(i))\n",
    "\n",
    "Quand on ne selectionne pas une action, la valeur et le poids du porte-feuille sont inchangés.\n",
    "\n",
    "Cas d'arrêt de la fonction récurrente : si tout le budget est épuisé ou si toutes les actions ont été considérées.\n",
    "\n",
    "Formalisons un peu mieux:"
   ]
  },
  {
   "cell_type": "code",
   "execution_count": 8,
   "id": "8195cf17-b264-4a53-bb0d-b81aeecaec48",
   "metadata": {},
   "outputs": [],
   "source": [
    "# recursively check all combinations\n",
    "\n",
    "def knap_sack_brute(budget, actions, actions_porte_feuille=[]):\n",
    "    # tant qu'il reste des actions non traitées\n",
    "    if actions:\n",
    "        # si l'action n'était pas retenue\n",
    "        profit_sans, liste_sans = knap_sack_brute(budget, actions[1:], actions_porte_feuille)\n",
    "        # 1ère action du porte-feuille\n",
    "        val = actions[0]\n",
    "        cout = val[1]\n",
    "        # si son cout est inférieur au budget\n",
    "        if cout <= budget:\n",
    "            # action prise, budget diminuée de son cout, et sous ensemble \n",
    "            #   d'action restante et selection de l'action courante \n",
    "            profit_avec, liste_avec = knap_sack_brute(budget - cout, actions[1:], actions_porte_feuille + [val])\n",
    "            # Choix de l'optimum :\n",
    "            if profit_sans < profit_avec:\n",
    "                return profit_avec, liste_avec\n",
    "\n",
    "        return profit_sans, liste_sans\n",
    "    else:\n",
    "        return sum([i[2] for i in actions_porte_feuille]), actions_porte_feuille\n",
    "# This code was inspired by Algomius"
   ]
  },
  {
   "cell_type": "code",
   "execution_count": 9,
   "id": "25f09666-94d2-4c2f-ae8b-da6911ba103f",
   "metadata": {},
   "outputs": [],
   "source": [
    "if False:\n",
    "    liste_actions = [(cle,val[0],val[1]) for cle,val in action_dict.items()]\n",
    "    valeur, action_pf = knap_sack_brute(BUDGET,liste_actions, [])\n",
    "    print('Un profit de ',valeur, ' pour la selection d\\'action ', action_pf)"
   ]
  },
  {
   "cell_type": "markdown",
   "id": "16df2d30-e151-4376-9311-f02622e75c3a",
   "metadata": {},
   "source": [
    "### 4. Résolution en programmation dynamique\n",
    "\n",
    "L'idée est de mémoriser les étapes déja calculées."
   ]
  },
  {
   "cell_type": "code",
   "execution_count": 10,
   "id": "30a5bceb-291d-498f-93ed-09080b0bc161",
   "metadata": {},
   "outputs": [],
   "source": [
    "def knap_sack_optimise(budget, actions):\n",
    "    # initialize matrix of size budget x share number\n",
    "    # columns are budget increasing value whereas every line is a share\n",
    "    matrice = [[0 for x in range(budget + 1)] for x in range(len(actions) + 1)]\n",
    "    # for every share in book ; +1 is the zero line \n",
    "    for i in range(1, len(actions) + 1):\n",
    "        # for every budget value up to max BUDGET\n",
    "        for cout_courant in range(1, budget + 1):\n",
    "            # if enough money to buy the current share\n",
    "            if actions[i-1][1] <= cout_courant:\n",
    "                # take the max btw \n",
    "                # current share profit + the previous best solution for remaining cost btw courrent_budget - share cost \n",
    "                # the previous Max value of the same budget column\n",
    "                matrice[i][cout_courant] = max(actions[i-1][2] + matrice[i-1][cout_courant-actions[i-1][1]], matrice[i-1][cout_courant])\n",
    "            else:\n",
    "            # if not enough money, keep the previous solution\n",
    "                matrice[i][cout_courant] = matrice[i-1][cout_courant]\n",
    "\n",
    "    # track back the selected shares\n",
    "    w = budget\n",
    "    n = len(actions)\n",
    "    actions_porte_feuille = []\n",
    "\n",
    "    while w >= 0 and n >= 0:\n",
    "        e = actions[n-1]\n",
    "        if matrice[n][w] == matrice[n-1][w-e[1]] + e[2]:\n",
    "            actions_porte_feuille.append(e)\n",
    "            w -= e[1]\n",
    "\n",
    "        n -= 1\n",
    "\n",
    "    return matrice[-1][-1], actions_porte_feuille\n",
    "# This code also was inspired by Algomius"
   ]
  },
  {
   "cell_type": "code",
   "execution_count": 11,
   "id": "572c0e73-645b-4cc0-b683-7e4f39f4f602",
   "metadata": {},
   "outputs": [
    {
     "name": "stdout",
     "output_type": "stream",
     "text": [
      "Un profit de  9907  pour la selection d'action  [('Action-20', 11400, 2052), ('Action-19', 2400, 504), ('Action-18', 1000, 140), ('Action-13', 3800, 874), ('Action-11', 4200, 714), ('Action-10', 3400, 918), ('Action-8', 2600, 286), ('Action-6', 8000, 2000), ('Action-5', 6000, 1019), ('Action-4', 7000, 1400)]\n"
     ]
    }
   ],
   "source": [
    "if True:\n",
    "    liste_actions = [(cle,val[0],val[1]) for cle,val in action_dict.items()]\n",
    "    valeur, action_pf = knap_sack_optimise(BUDGET,liste_actions)\n",
    "    print('Un profit de ',valeur, ' pour la selection d\\'action ', action_pf)"
   ]
  },
  {
   "cell_type": "code",
   "execution_count": 12,
   "id": "12585f01-ffb3-4300-a580-8cb706b6965e",
   "metadata": {},
   "outputs": [],
   "source": [
    "@fn_timer\n",
    "def measure_optimise(budget, liste):\n",
    "    return knap_sack_optimise(budget,liste)\n",
    "@fn_timer\n",
    "def measure_brute(budget, liste):\n",
    "    return knap_sack_brute(budget,liste,[])"
   ]
  },
  {
   "cell_type": "code",
   "execution_count": 13,
   "id": "03390b5f-5e59-449e-bdb0-db05a0e0115c",
   "metadata": {},
   "outputs": [
    {
     "name": "stdout",
     "output_type": "stream",
     "text": [
      "Total time running measure_optimise: 1.0530114s seconds\n"
     ]
    },
    {
     "data": {
      "text/plain": [
       "(9907,\n",
       " [('Action-20', 11400, 2052),\n",
       "  ('Action-19', 2400, 504),\n",
       "  ('Action-18', 1000, 140),\n",
       "  ('Action-13', 3800, 874),\n",
       "  ('Action-11', 4200, 714),\n",
       "  ('Action-10', 3400, 918),\n",
       "  ('Action-8', 2600, 286),\n",
       "  ('Action-6', 8000, 2000),\n",
       "  ('Action-5', 6000, 1019),\n",
       "  ('Action-4', 7000, 1400)])"
      ]
     },
     "execution_count": 13,
     "metadata": {},
     "output_type": "execute_result"
    }
   ],
   "source": [
    "liste_actions = [(cle,val[0],val[1]) for cle,val in action_dict.items()]\n",
    "measure_optimise(BUDGET,liste_actions)\n"
   ]
  },
  {
   "cell_type": "code",
   "execution_count": 14,
   "id": "cdc09b6e-b9ff-46dc-bc30-2e6a15d0b6f1",
   "metadata": {},
   "outputs": [
    {
     "name": "stdout",
     "output_type": "stream",
     "text": [
      "Total time running measure_brute: 2.1838188s seconds\n"
     ]
    },
    {
     "data": {
      "text/plain": [
       "(9907,\n",
       " [('Action-4', 7000, 1400),\n",
       "  ('Action-5', 6000, 1019),\n",
       "  ('Action-6', 8000, 2000),\n",
       "  ('Action-8', 2600, 286),\n",
       "  ('Action-10', 3400, 918),\n",
       "  ('Action-11', 4200, 714),\n",
       "  ('Action-13', 3800, 874),\n",
       "  ('Action-18', 1000, 140),\n",
       "  ('Action-19', 2400, 504),\n",
       "  ('Action-20', 11400, 2052)])"
      ]
     },
     "execution_count": 14,
     "metadata": {},
     "output_type": "execute_result"
    }
   ],
   "source": [
    "liste_actions = [(cle,val[0],val[1]) for cle,val in action_dict.items()]\n",
    "measure_brute(BUDGET,liste_actions)"
   ]
  }
 ],
 "metadata": {
  "kernelspec": {
   "display_name": "Python 3 (ipykernel)",
   "language": "python",
   "name": "python3"
  },
  "language_info": {
   "codemirror_mode": {
    "name": "ipython",
    "version": 3
   },
   "file_extension": ".py",
   "mimetype": "text/x-python",
   "name": "python",
   "nbconvert_exporter": "python",
   "pygments_lexer": "ipython3",
   "version": "3.9.7"
  }
 },
 "nbformat": 4,
 "nbformat_minor": 5
}
