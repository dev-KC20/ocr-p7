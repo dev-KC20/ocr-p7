{
 "cells": [
  {
   "cell_type": "markdown",
   "id": "20c24205",
   "metadata": {},
   "source": [
    "\n",
    "## P7: Résolvez des problèmes en utilisant des algorithmes en Python #1\n",
    "\n",
    "\n",
    "Repartir des essais de découverte précédent pour améliorer la calcul brute force au mieux.\n",
    "Si la contrainte est toujours du style budget maximum, il est inutile de conserver les combinaisons dont le cout est > BUDGET.\n",
    "Cela n'en devient pas pour autant de la programmation dynamique, réservée à l'algo suivant ;\n",
    "la programmation dynamique évitant de recalculer des sous-arbres déja parcourus.\n",
    "\n",
    "\n",
    "* Caculer simultanément à l'explosion combinatoire.\n",
    "Dans les essais de découverte, j'ai dans un 1er temps explosé toutes les combinaisons possibles puis ensuite seulement calculé et limité au sous-ensemble de budget <= BUDGET.\n",
    "Un calcul simultané permettrait la vérification de contrainte non atteinte et la réduction de l'ensemble des solutions possibles.\n",
    "\n",
    "* Structure de donnée.\n",
    "Pour \"porter\" les combinaisons une liste est envisageable avec pour chercher les données (cout, profit) de chaque action un dictionnaire semble efficace.\n",
    "\n",
    "\n",
    "\n",
    "### 1. Préparation des données\n",
    "\n"
   ]
  },
  {
   "cell_type": "code",
   "execution_count": 1,
   "id": "bf958757",
   "metadata": {},
   "outputs": [],
   "source": [
    "import csv as csv\n",
    "import re as re\n",
    "import time\n",
    "\n"
   ]
  },
  {
   "cell_type": "code",
   "execution_count": 2,
   "id": "2268135b",
   "metadata": {},
   "outputs": [],
   "source": [
    "try:\n",
    "    import big_o\n",
    "except ModuleNotFoundError:\n",
    "    print('cherche',ModuleNotFoundError)\n",
    "    !pip install --upgrade pip\n",
    "    !pip install big_o\n",
    "    import big_o"
   ]
  },
  {
   "cell_type": "code",
   "execution_count": 3,
   "id": "9620746e",
   "metadata": {},
   "outputs": [],
   "source": [
    "# constant\n",
    "#FILE = \"data/p7-20-shares.csv\" \n",
    "#FIELDNAMES = ['name', 'cost', 'profit_share', 'profit']\n",
    "\n",
    "FILE = \"data/dataset1_Python+P7.csv\" \n",
    "FIELDNAMES = ['name', 'cost', 'profit']\n",
    "BUDGET = 50000"
   ]
  },
  {
   "cell_type": "markdown",
   "id": "b50ee0ce-09e6-4093-87b1-8ecbe4201120",
   "metadata": {},
   "source": [
    "### En complément de Big_O, mesure du temps\n",
    "\n",
    "Si la mesure du temps d'execution est dépendante du type de PC, des processus en cours d'execution etc., elle permet une approximation de l'efficacité  des algorithme choisis complémentaire à celle de la notation big_o.\n",
    "\n",
    "Suivant le conseil de [Marina Mele](http://www.marinamele.com/author/marina-melegmail-com) dans [7 tips to Time Python scripts and control Memory & CPU usage](https://www.marinamele.com/7-tips-to-time-python-scripts-and-control-memory-and-cpu-usage)\n"
   ]
  },
  {
   "cell_type": "code",
   "execution_count": 4,
   "id": "3a9efc65-0b08-488e-86bb-112e2986b3cb",
   "metadata": {},
   "outputs": [],
   "source": [
    " def fn_timer(function):\n",
    "        \n",
    "#    @wraps(function)\n",
    "    def function_timer(*args, **kwargs):\n",
    "        t0 = time.perf_counter_ns()\n",
    "        result = function(*args, **kwargs)\n",
    "        t1 = time.perf_counter_ns()\n",
    "        print (\"Total time running %s: %s nanoseconds\" %\n",
    "               (function.__name__, str(t1-t0))\n",
    "               )\n",
    "        return result\n",
    "    return function_timer"
   ]
  },
  {
   "cell_type": "code",
   "execution_count": 5,
   "id": "9a0ce587",
   "metadata": {},
   "outputs": [],
   "source": [
    "# nettoyer les données des fichiers en entrée\n",
    "def clean_char(texte: str) -> str:\n",
    "    \"\"\" on ne conserve que les caractères lisibles \n",
    "    les lettres, chiffres, ponctuations décimales et signes\n",
    "    les valeurs negatives sont acceptées, du point de vue profit.\n",
    "    \"\"\"\n",
    "    texte_propre = re.sub(r\"[^a-zA-Z0-9\\-\\.\\,\\+]\", \"\", texte.replace(',','.'))\n",
    "    return texte_propre"
   ]
  },
  {
   "cell_type": "markdown",
   "id": "915495c6",
   "metadata": {},
   "source": [
    "### Amélioration des données\n",
    "\n",
    "Sur python le travail avec float est plus couteux qu'en entier.\n",
    "Une solution est alors de multiplier par 100 cout, budget et profit car cela ne change pas\n",
    "le résultat.\n"
   ]
  },
  {
   "cell_type": "code",
   "execution_count": 19,
   "id": "ec44e90f",
   "metadata": {},
   "outputs": [
    {
     "name": "stdout",
     "output_type": "stream",
     "text": [
      " line 5 had null or neg cost data; dropped.\n",
      " line 9 had null or neg cost data; dropped.\n",
      " line 32 had null or neg cost data; dropped.\n",
      " line 34 had null or neg cost data; dropped.\n",
      " line 95 had null or neg cost data; dropped.\n",
      " line 110 had null or neg cost data; dropped.\n",
      " line 123 had null or neg cost data; dropped.\n",
      " line 132 had null or neg cost data; dropped.\n",
      " line 170 had null or neg cost data; dropped.\n",
      " line 186 had null or neg cost data; dropped.\n",
      " line 234 had null or neg cost data; dropped.\n",
      " line 252 had null or neg cost data; dropped.\n",
      " line 286 had null or neg cost data; dropped.\n",
      " line 314 had null or neg cost data; dropped.\n",
      " line 412 had null or neg cost data; dropped.\n",
      " line 423 had null or neg cost data; dropped.\n",
      " line 445 had null or neg cost data; dropped.\n",
      " line 448 had null or neg cost data; dropped.\n",
      " line 472 had null or neg cost data; dropped.\n",
      " line 515 had null or neg cost data; dropped.\n",
      " line 531 had null or neg cost data; dropped.\n",
      " line 532 had null or neg cost data; dropped.\n",
      " line 546 had null or neg cost data; dropped.\n",
      " line 550 had null or neg cost data; dropped.\n",
      " line 571 had null or neg cost data; dropped.\n",
      " line 575 had null or neg cost data; dropped.\n",
      " line 586 had null or neg cost data; dropped.\n",
      " line 621 had null or neg cost data; dropped.\n",
      " line 636 had null or neg cost data; dropped.\n",
      " line 681 had null or neg cost data; dropped.\n",
      " line 682 had null or neg cost data; dropped.\n",
      " line 690 had null or neg cost data; dropped.\n",
      " line 692 had null or neg cost data; dropped.\n",
      " line 796 had null or neg cost data; dropped.\n",
      " line 812 had null or neg cost data; dropped.\n",
      " line 825 had null or neg cost data; dropped.\n",
      " line 834 had null or neg cost data; dropped.\n",
      " line 841 had null or neg cost data; dropped.\n",
      " line 893 had null or neg cost data; dropped.\n",
      " line 901 had null or neg cost data; dropped.\n",
      " line 944 had null or neg cost data; dropped.\n",
      " line 953 had null or neg cost data; dropped.\n",
      " line 977 had null or neg cost data; dropped.\n",
      " line 995 had null or neg cost data; dropped.\n"
     ]
    }
   ],
   "source": [
    "\"\"\" lecture, nettoyage et chargement en dict.\n",
    "    les non valeurs NaN sont rejetées.\n",
    "\"\"\"\n",
    "action_dict = {}\n",
    "try:\n",
    "    with open(FILE, \"r\", newline='', encoding='utf-8') as file:\n",
    "        csv_reader = csv.DictReader(file, fieldnames=FIELDNAMES, \n",
    "                                    delimiter=',', doublequote=False)\n",
    "        # skip the header\n",
    "        next(csv_reader)\n",
    "        for idx, line in enumerate(csv_reader):\n",
    "            clean_data = True\n",
    "\n",
    "            if line[FIELDNAMES[0]] != \"\":\n",
    "                cle = clean_char(line[FIELDNAMES[0]])\n",
    "            else:\n",
    "                print(f\" line {idx} had missing share name; dropped.\")\n",
    "                clean_data = False\n",
    "\n",
    "            if line[FIELDNAMES[1]] != \"\":\n",
    "                cout = round(100 * float(clean_char(line[FIELDNAMES[1]])))\n",
    "                if cout <= 0 :\n",
    "                    print(f\" line {idx} had null or neg cost data; dropped.\")\n",
    "                    cout = 0\n",
    "                    clean_data = False                    \n",
    "            else:\n",
    "                print(f\" line {idx} had missing cost data; dropped.\")\n",
    "                clean_data = False\n",
    "            if line[FIELDNAMES[2]] != \"\":\n",
    "                gain = round(100 * float(clean_char(line[FIELDNAMES[2]])))\n",
    "            else:\n",
    "                print(f\" line {idx} had missing profit data; dropped.\")\n",
    "                clean_data = False\n",
    "            if (gain < 0) or (cout < 0):\n",
    "                print(f\" line {idx} had negative value; accepted but pls check.\")\n",
    "            if clean_data:\n",
    "                action_dict[cle] = (cout, gain)\n",
    "except FileNotFoundError:\n",
    "    print(f\" fichier non trouvé, Merci de vérifier son nom {file_name} : {FileNotFoundError}\")            \n",
    "except IOError:\n",
    "    print(f\" une erreur est survenue à l'écriture du fichier {file_name} : {IOError}\")            \n"
   ]
  },
  {
   "cell_type": "code",
   "execution_count": 1,
   "id": "2eb5202e",
   "metadata": {},
   "outputs": [],
   "source": [
    "#action_dict\n",
    "                "
   ]
  },
  {
   "cell_type": "markdown",
   "id": "1d578fb9",
   "metadata": {},
   "source": [
    "### 2. Calcul brute force.\n",
    "\n",
    "$$\n",
    "{n \\choose k}={\\frac {n!}{k!(n-k)!}}.\n",
    "$$\n",
    "\n",
    "### 2.1 Estimation simple du nombre de calcul maximum.\n",
    "\n",
    "entendre : Non réduit à la contrainte BUDGET."
   ]
  },
  {
   "cell_type": "code",
   "execution_count": 22,
   "id": "6efc305f",
   "metadata": {},
   "outputs": [],
   "source": [
    "def number_combi(n: int, k: int) -> int:\n",
    "    def factorielle(x:int) -> int:\n",
    "        if x <=1:\n",
    "            return 1\n",
    "        else:\n",
    "            return (x * factorielle(x-1))\n",
    "    top = factorielle(n)\n",
    "    bot = factorielle(k) * factorielle(n-k)\n",
    "    if bot > 0:\n",
    "        return top/bot\n",
    "    else:\n",
    "        raise Error"
   ]
  },
  {
   "cell_type": "code",
   "execution_count": 24,
   "id": "17688d8d",
   "metadata": {},
   "outputs": [
    {
     "name": "stdout",
     "output_type": "stream",
     "text": [
      "6.090821257124996e+287  combinaisons pour un échantillon de  956\n"
     ]
    }
   ],
   "source": [
    "denombrement = True\n",
    "if denombrement:\n",
    "    N = len(action_dict.keys())\n",
    "    number_of_combi = 0\n",
    "    for K in range(N):\n",
    "        number_of_combi += number_combi(N, K)\n",
    "    print(number_of_combi,' combinaisons pour un échantillon de ', N)   "
   ]
  },
  {
   "cell_type": "markdown",
   "id": "4fe229fd",
   "metadata": {},
   "source": [
    "\n",
    "Nous sommes prévenu, il y a environ 6.090821257124996e+287 de combinaison d'un portefeuille de 956 actions!\n",
    "Le calcul des combinaisons est impossible en Force Brute. \n",
    "  \n"
   ]
  }
 ],
 "metadata": {
  "kernelspec": {
   "display_name": "Python 3 (ipykernel)",
   "language": "python",
   "name": "python3"
  },
  "language_info": {
   "codemirror_mode": {
    "name": "ipython",
    "version": 3
   },
   "file_extension": ".py",
   "mimetype": "text/x-python",
   "name": "python",
   "nbconvert_exporter": "python",
   "pygments_lexer": "ipython3",
   "version": "3.9.7"
  }
 },
 "nbformat": 4,
 "nbformat_minor": 5
}
