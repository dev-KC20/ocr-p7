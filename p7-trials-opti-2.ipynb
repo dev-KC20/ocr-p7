{
 "cells": [
  {
   "cell_type": "markdown",
   "id": "20c24205",
   "metadata": {},
   "source": [
    "\n",
    "## P7: Résolvez des problèmes en utilisant des algorithmes en Python #2\n",
    "\n",
    "\n",
    "Dans le 2nd jeu d'essai reçu de 956 actions, l'explosion combinatoire rend impossible le traitement car il existerait 6.090821257124996 e+287 combinaisons.\n",
    "\n",
    "Il faut donc procéder autrement.\n",
    "L'algorithme du sac à dos ou l'on parcourt un arbre des cas possibles en décidant de prendre ou non une action peut être optimisé.\n",
    "\n",
    "\n",
    "\n",
    "### 1. Préparation des données\n",
    "\n"
   ]
  },
  {
   "cell_type": "code",
   "execution_count": 3,
   "id": "bf958757",
   "metadata": {},
   "outputs": [],
   "source": [
    "import csv as csv\n",
    "import re as re\n",
    "import time\n",
    "\n"
   ]
  },
  {
   "cell_type": "code",
   "execution_count": 4,
   "id": "2268135b",
   "metadata": {},
   "outputs": [],
   "source": [
    "try:\n",
    "    import big_o\n",
    "except ModuleNotFoundError:\n",
    "    print('cherche',ModuleNotFoundError)\n",
    "    !pip install --upgrade pip\n",
    "    !pip install big_o\n",
    "    import big_o"
   ]
  },
  {
   "cell_type": "code",
   "execution_count": 5,
   "id": "9620746e",
   "metadata": {},
   "outputs": [],
   "source": [
    "# constant\n",
    "FILE = \"data/p7-20-shares.csv\" \n",
    "FIELDNAMES = ['name', 'cost', 'profit_share', 'profit']\n",
    "\n",
    "\n",
    "BUDGET = 50000"
   ]
  },
  {
   "cell_type": "code",
   "execution_count": 6,
   "id": "3a9efc65-0b08-488e-86bb-112e2986b3cb",
   "metadata": {},
   "outputs": [],
   "source": [
    " def fn_timer(function):\n",
    "        \n",
    "#    @wraps(function)\n",
    "    def function_timer(*args, **kwargs):\n",
    "        t0 = time.perf_counter_ns()\n",
    "        result = function(*args, **kwargs)\n",
    "        t1 = time.perf_counter_ns()\n",
    "        print (\"Total time running %s: %s nanoseconds\" %\n",
    "               (function.__name__, str(t1-t0))\n",
    "               )\n",
    "        return result\n",
    "    return function_timer"
   ]
  },
  {
   "cell_type": "code",
   "execution_count": 7,
   "id": "9a0ce587",
   "metadata": {},
   "outputs": [],
   "source": [
    "# nettoyer les données des fichiers en entrée\n",
    "def clean_char(texte: str) -> str:\n",
    "    \"\"\" on ne conserve que les caractères lisibles \n",
    "    les lettres, chiffres, ponctuations décimales et signes\n",
    "    les valeurs negatives sont acceptées, du point de vue profit.\n",
    "    \"\"\"\n",
    "    texte_propre = re.sub(r\"[^a-zA-Z0-9\\-\\.\\,\\+]\", \"\", texte.replace(',','.'))\n",
    "    return texte_propre"
   ]
  },
  {
   "cell_type": "markdown",
   "id": "915495c6",
   "metadata": {},
   "source": [
    "### Amélioration des données\n",
    "\n",
    "Sur python le travail avec float est plus couteux qu'en entier.\n",
    "Une solution est alors de multiplier par 100 cout, budget et profit car cela ne change pas\n",
    "le résultat.\n"
   ]
  },
  {
   "cell_type": "code",
   "execution_count": 8,
   "id": "ec44e90f",
   "metadata": {},
   "outputs": [],
   "source": [
    "\"\"\" lecture, nettoyage et chargement en dict.\n",
    "    les non valeurs NaN sont rejetées.\n",
    "\"\"\"\n",
    "action_dict = {}\n",
    "try:\n",
    "    with open(FILE, \"r\", newline='', encoding='utf-8') as file:\n",
    "        csv_reader = csv.DictReader(file, fieldnames=FIELDNAMES, \n",
    "                                    delimiter=';', doublequote=False)\n",
    "        # skip the header\n",
    "        next(csv_reader)\n",
    "        for idx, line in enumerate(csv_reader):\n",
    "            clean_data = True\n",
    "            if line[FIELDNAMES[0]] != \"\":\n",
    "                cle = clean_char(line[FIELDNAMES[0]])\n",
    "            else:\n",
    "                print(f\" line {idx} had missing share name; dropped.\")\n",
    "                clean_data = False\n",
    "            if line[FIELDNAMES[1]] != \"\":\n",
    "                cout = 100 * int(clean_char(line[FIELDNAMES[1]]))\n",
    "            else:\n",
    "                print(f\" line {idx} had missing cost data; dropped.\")\n",
    "                clean_data = False\n",
    "            if line[FIELDNAMES[3]] != \"\":\n",
    "                gain = int(100 * float(clean_char(line[FIELDNAMES[3]])))\n",
    "            else:\n",
    "                print(f\" line {idx} had missing profit data; dropped.\")\n",
    "                clean_data = False\n",
    "            if (gain < 0) or (cout < 0):\n",
    "                print(f\" line {idx} had negative value; accepted but pls check.\")\n",
    "            if (clean_data):\n",
    "                action_dict[cle] = (cout, gain)\n",
    "except FileNotFoundError:\n",
    "    print(f\" fichier non trouvé, Merci de vérifier son nom {file_name} : {FileNotFoundError}\")            \n",
    "except IOError:\n",
    "    print(f\" une erreur est survenue à l'écriture du fichier {file_name} : {IOError}\")            \n"
   ]
  },
  {
   "cell_type": "code",
   "execution_count": 9,
   "id": "2eb5202e",
   "metadata": {},
   "outputs": [
    {
     "data": {
      "text/plain": [
       "{'Action-1': (2000, 100),\n",
       " 'Action-2': (3000, 300),\n",
       " 'Action-3': (5000, 750),\n",
       " 'Action-4': (7000, 1400),\n",
       " 'Action-5': (6000, 1019),\n",
       " 'Action-6': (8000, 2000),\n",
       " 'Action-7': (2200, 154),\n",
       " 'Action-8': (2600, 286),\n",
       " 'Action-9': (4800, 624),\n",
       " 'Action-10': (3400, 918),\n",
       " 'Action-11': (4200, 714),\n",
       " 'Action-12': (11000, 990),\n",
       " 'Action-13': (3800, 874),\n",
       " 'Action-14': (1400, 14),\n",
       " 'Action-15': (1800, 54),\n",
       " 'Action-16': (800, 64),\n",
       " 'Action-17': (400, 48),\n",
       " 'Action-18': (1000, 140),\n",
       " 'Action-19': (2400, 504),\n",
       " 'Action-20': (11400, 2052)}"
      ]
     },
     "execution_count": 9,
     "metadata": {},
     "output_type": "execute_result"
    }
   ],
   "source": [
    "action_dict\n",
    "                "
   ]
  },
  {
   "cell_type": "markdown",
   "id": "3522c75e-e106-48b8-9ae0-ec57da181826",
   "metadata": {},
   "source": [
    "Résolution en force brute récurrente:\n",
    "si on considère l'ensemble des 'actions' du porte-feuille potentiel, il existe de multiples combinaisons d''action'. Parmi toutes les combinaisons dont le cout est inférieur au budget d'investissement, l'une d'entre elles est optimale car elle fournit le plus grand profit.\n",
    "\n",
    "\n",
    "Maintenant quand on prend une 'action' au hasard,\n",
    "soit on selectionne cette 'action' comme partie de la solution\n",
    "soit on ne la selectionne pas.\n",
    "\n",
    "Quand on selectionne une 'action', il faut exprimer la valeur et le cout du porte-feuille en fonction de sa valeur avant sélection (pour introduire de la récurrence avec n fonction de n-1).\n",
    "valeur(pf(i)) = valeur(pf(i-1)) + valeur(action(i))\n",
    "cout(pf(i)) = cout(pf(i-1)) + cout(action(i))\n",
    "ou avec un cout exprimé en budget restant:\n",
    "budget_restant(pf(i)) = budget_restant(pf(i-1)) - cout(action(i))\n",
    "\n",
    "Quand on ne selectionne pas une action, la valeur et le poids du porte-feuille sont inchangés.\n",
    "\n",
    "Cas d'arrêt de la fonction récurrente : si tout le budget est épuisé ou si toutes les actions ont été considérées.\n",
    "\n",
    "Formalisons un peu mieux:\n",
    "\n",
    "selectionne_pour_portefeuille(liste_action, budget)\n"
   ]
  },
  {
   "cell_type": "code",
   "execution_count": 39,
   "id": "8195cf17-b264-4a53-bb0d-b81aeecaec48",
   "metadata": {},
   "outputs": [],
   "source": [
    "# This code is contributed by Nikhil Kumar Singh\n",
    "def knapSack(W, wt, val, n, item_list):\n",
    " \n",
    "    # Base Case\n",
    "    if n == 0 or W == 0:\n",
    "        return 0, item_list\n",
    " \n",
    "    # If weight of the nth item is\n",
    "    # more than Knapsack of capacity W,\n",
    "    # then this item cannot be included\n",
    "    # in the optimal solution\n",
    "    if (wt[n-1] > W):\n",
    "        return knapSack(W, wt, val, n-1, item_list)\n",
    " \n",
    "    # return the maximum of two cases:\n",
    "    # (1) nth item included\n",
    "    # (2) not included\n",
    "    else:\n",
    "        # take the item\n",
    "        included = val[n-1] + knapSack(\n",
    "                W-wt[n-1], wt, val, n-1, item_list)[0]\n",
    "        excluded = knapSack(W, wt, val, n-1, item_list)[0]\n",
    "        if included > excluded:\n",
    "            if n not in item_list:\n",
    "                item_list.append(n)\n",
    "            optimum = included\n",
    "        else:\n",
    "            optimum = excluded\n",
    "            if n in item_list:\n",
    "                item_list.remove(n)\n",
    "        return (optimum, item_list)\n",
    " \n",
    "# end of function knapSack"
   ]
  },
  {
   "cell_type": "code",
   "execution_count": 41,
   "id": "25f09666-94d2-4c2f-ae8b-da6911ba103f",
   "metadata": {},
   "outputs": [
    {
     "name": "stdout",
     "output_type": "stream",
     "text": [
      "[1, 2, 3, 4, 6, 13, 18, 10, 19, 11, 5, 9, 8, 7, 12, 20]\n"
     ]
    }
   ],
   "source": [
    "val = [profit[1] for _,profit in action_dict.items()]\n",
    "wt =  [profit[0] for _,profit in action_dict.items()]\n",
    "W = BUDGET\n",
    "n = len(val)\n",
    "valeur, action_pf = knapSack(W, wt, val, n, [])\n",
    "print(action_pf)"
   ]
  },
  {
   "cell_type": "markdown",
   "id": "5ddd555d-4c2e-4c4f-a5cf-a7775f8d8792",
   "metadata": {},
   "source": [
    "une approche récursive avec mémorisation des sous-arbres déja vu une fois\n",
    "\n",
    "# This code is contributed by Prosun Kumar Sarkar"
   ]
  },
  {
   "cell_type": "code",
   "execution_count": 51,
   "id": "54015fdc-773d-478e-9441-b85b0f77113c",
   "metadata": {},
   "outputs": [],
   "source": [
    "\n",
    " \n",
    " \n",
    "def knapsack_memorize(wt, val, W, n):\n",
    " \n",
    "    # base conditions\n",
    "    if n == 0 or W == 0:\n",
    "        return 0\n",
    "    # already computed earlier\n",
    "    if t[n][W] != -1:\n",
    "        return t[n][W]\n",
    " \n",
    "    # choice diagram code\n",
    "    if wt[n-1] <= W:\n",
    "        t[n][W] = max(\n",
    "            val[n-1] + knapsack_memorize(\n",
    "                wt, val, W-wt[n-1], n-1),\n",
    "            knapsack_memorize(wt, val, W, n-1))\n",
    "        return t[n][W]\n",
    "    elif wt[n-1] > W:\n",
    "        t[n][W] = knapsack_memorize(wt, val, W, n-1)\n",
    "        return t[n][W]"
   ]
  },
  {
   "cell_type": "code",
   "execution_count": 48,
   "id": "787bf025-b1eb-45af-ad9a-f6eeeaa5f403",
   "metadata": {},
   "outputs": [],
   "source": [
    "# We initialize the matrix with -1 at first.\n",
    "t = [[-1 for i in range(W + 1)] for j in range(n + 1)]"
   ]
  },
  {
   "cell_type": "code",
   "execution_count": 54,
   "id": "31757cd8-eaf2-43fc-a84e-94b14bfc4b32",
   "metadata": {},
   "outputs": [
    {
     "data": {
      "text/plain": [
       "-1"
      ]
     },
     "execution_count": 54,
     "metadata": {},
     "output_type": "execute_result"
    }
   ],
   "source": [
    "t[0][0]"
   ]
  },
  {
   "cell_type": "code",
   "execution_count": 57,
   "id": "7dc7fb7a-eb57-4d2a-91fc-46c7146d6465",
   "metadata": {},
   "outputs": [
    {
     "data": {
      "text/plain": [
       "9907"
      ]
     },
     "execution_count": 57,
     "metadata": {},
     "output_type": "execute_result"
    }
   ],
   "source": [
    "val = [profit[1] for _,profit in action_dict.items()]\n",
    "wt =  [profit[0] for _,profit in action_dict.items()]\n",
    "\n",
    "n = len(val)\n",
    "knapsack_memorize(wt, val,BUDGET, n)\n"
   ]
  },
  {
   "cell_type": "markdown",
   "id": "1d578fb9",
   "metadata": {},
   "source": [
    "### 2. Calcul du tableau\n",
    "\n",
    "n (=956 ou =20) lignes x budget (=500 +1) colonnes\n",
    "environ 501 000 points mémoire pour l'exemple complet n°2. \n",
    "et 10 000 points dans l'exemple n°1.\n",
    "\n",
    "\n",
    "exemple de résolution:\n",
    "[algorithm => Problème de sac à dos](https://learntutorials.net/fr/algorithm/topic/7250/probleme-de-sac-a-dos)\n",
    "\n",
    "Time Complexité du code ci-dessus: `O(nW)` où n est le nombre d'éléments et W la capacité du sac à dos.\n",
    "\n",
    "   Valeurs (tableau v)\n",
    "   Poids (tableau w)\n",
    "   Nombre d'éléments distincts (n)\n",
    "   Capacité (W) \n",
    "\n",
    "def knapSack(W, wt, val, n):\n",
    "    K = [[0 for x in range(W+1)] for x in range(n+1)]\n",
    "    for i in range(n+1):\n",
    "        for w in range(W+1):\n",
    "            if i==0 or w==0:\n",
    "                K[i][w] = 0\n",
    "            elif wt[i-1] <= w:\n",
    "                K[i][w] = max(val[i-1] + K[i-1][w-wt[i-1]],  K[i-1][w])\n",
    "            else:\n",
    "                K[i][w] = K[i-1][w]\n",
    "    return K[n][W]\n",
    "val = [60, 100, 120]\n",
    "wt = [10, 20, 30]\n",
    "W = 50\n",
    "n = len(val)\n",
    "print(knapSack(W, wt, val, n))\n",
    "\n"
   ]
  },
  {
   "cell_type": "code",
   "execution_count": 19,
   "id": "8e1b08b7-813e-4eac-a224-6e75938e0ed6",
   "metadata": {},
   "outputs": [],
   "source": [
    "superK = [[0 for x in range(W+1)] for x in range(n+1)]\n",
    "def knapSack(W, wt, val, n):\n",
    "    K = [[0 for x in range(W+1)] for x in range(n+1)]\n",
    "    for i in range(n+1):\n",
    "        for w in range(W+1):\n",
    "            if i==0 or w==0:\n",
    "                K[i][w] = 0\n",
    "            elif wt[i-1] <= w:\n",
    "                K[i][w] = max(val[i-1] + K[i-1][w-wt[i-1]],  K[i-1][w])\n",
    "              \n",
    "            else:\n",
    "                K[i][w] = K[i-1][w]\n",
    "    superK = K        \n",
    "    return K[n][W]\n"
   ]
  },
  {
   "cell_type": "code",
   "execution_count": null,
   "id": "617bfc6c-4abc-4f90-a3e0-178ca01c6b7c",
   "metadata": {},
   "outputs": [],
   "source": []
  },
  {
   "cell_type": "code",
   "execution_count": 20,
   "id": "1fb12e1c-79b5-4aad-a97e-a43e55a3f643",
   "metadata": {},
   "outputs": [
    {
     "name": "stdout",
     "output_type": "stream",
     "text": [
      "9907\n"
     ]
    }
   ],
   "source": [
    "val = [profit[1] for _,profit in action_dict.items()]\n",
    "wt =  [profit[0] for _,profit in action_dict.items()]\n",
    "W = BUDGET\n",
    "n = len(val)\n",
    "print(knapSack(W, wt, val, n))"
   ]
  },
  {
   "cell_type": "code",
   "execution_count": null,
   "id": "10e33cd9-33a2-4c97-84b2-795ea388b79b",
   "metadata": {},
   "outputs": [],
   "source": []
  },
  {
   "cell_type": "code",
   "execution_count": 14,
   "id": "c08d424a-5f71-4c99-8b0e-66cef6ef172a",
   "metadata": {},
   "outputs": [],
   "source": [
    "# remplir le tableau\n",
    "KSP = [[ligne,0] for ligne in range(int(BUDGET/100))]\n",
    "\n"
   ]
  }
 ],
 "metadata": {
  "kernelspec": {
   "display_name": "Python 3 (ipykernel)",
   "language": "python",
   "name": "python3"
  },
  "language_info": {
   "codemirror_mode": {
    "name": "ipython",
    "version": 3
   },
   "file_extension": ".py",
   "mimetype": "text/x-python",
   "name": "python",
   "nbconvert_exporter": "python",
   "pygments_lexer": "ipython3",
   "version": "3.9.7"
  }
 },
 "nbformat": 4,
 "nbformat_minor": 5
}
