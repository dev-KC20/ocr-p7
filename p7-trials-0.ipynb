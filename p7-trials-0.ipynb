{
 "cells": [
  {
   "cell_type": "markdown",
   "id": "20c24205",
   "metadata": {},
   "source": [
    "\n",
    "## P7: Résolvez des problèmes en utilisant des algorithmes en Python\n",
    "\n",
    "\n",
    "\n",
    "### references used:\n",
    "\n",
    "\n",
    "[(c) Analyse de la complexité des algorithmes — Wikipédia](https://fr.wikipedia.org/wiki/Analyse_de_la_complexit%C3%A9_des_algorithmes)\n",
    "\n",
    "\n",
    "\n",
    "[Parsing CSV Files with Python's DictReader](https://brodan.biz/blog/parsing-csv-files-with-python/)\n",
    "\n",
    "I had an interview today (spoiler: I didn't get an offer), and one of the rounds of my interview involved refactoring some poorly written [Python](https://www.python.org/) code.\n",
    "\n",
    "[TimeComplexity - Python Wiki](https://wiki.python.org/moin/TimeComplexity)\n",
    "\n",
    "This page documents the time-complexity (aka \"Big O\" or \"Big Oh\") of various operations in current CPython. Other Python implementations (or older or still-under development versions of CPython) may have slightly different performance characteristics. However, it is generally safe to assume that they are not slower by more than a factor of O(log n).\n",
    "\n",
    "[GitHub - pberkes/big_O: Python module to estimate big-O time complexity from execution time](https://github.com/pberkes/big_O)\n",
    "\n",
    "big_O is a Python module to estimate the time complexity of Python code from its execution time. It can be used to analyze how functions scale with inputs of increasing size.\n",
    "\n",
    "\n",
    "\n",
    "\n",
    "\n"
   ]
  },
  {
   "cell_type": "markdown",
   "id": "d0159d7b",
   "metadata": {},
   "source": [
    "[Comment trier un dictionnaire Python par valeur | Delft Stack](https://www.delftstack.com/fr/howto/python/how-to-sort-a-dictionary-by-value/)\n",
    "\n",
    "```python\n",
    "sortedDict = sorted(exampleDict.items(), key=lambda x: x[1])\n",
    "#Out: [('fourth', 1), ('third', 2), ('first', 3), ('second', 4)]\n",
    "```\n",
    "\n",
    "`exempleDict.items()` retourne une liste de paires clé-valeur du dictionnaire et le type de données de son élément est tuple. `x` est l’élément de ce tuple, où `x[0]` est la clé et `x[1]` est la valeur. `key=lambda x:x[1]` indique que la clé de comparaison est la valeur des éléments du dictionnaire."
   ]
  },
  {
   "cell_type": "code",
   "execution_count": 1,
   "id": "bf958757",
   "metadata": {},
   "outputs": [],
   "source": [
    "import csv as csv\n",
    "import re as re\n",
    "import time\n",
    "#from functools import wraps\n"
   ]
  },
  {
   "cell_type": "code",
   "execution_count": 2,
   "id": "2268135b",
   "metadata": {},
   "outputs": [],
   "source": [
    "try:\n",
    "    import big_o\n",
    "except ModuleNotFoundError:\n",
    "    print('cherche',ModuleNotFoundError)\n",
    "    !pip install --upgrade pip\n",
    "    !pip install big_o\n",
    "    import big_o"
   ]
  },
  {
   "cell_type": "code",
   "execution_count": 3,
   "id": "9620746e",
   "metadata": {},
   "outputs": [],
   "source": [
    "# constant\n",
    "FILE = \"data/p7-20-shares.csv\" \n",
    "FIELDNAMES = ['name', 'cost', 'profit_share', 'profit']\n",
    "PRECISION = 3\n",
    "BUDGET = 50000"
   ]
  },
  {
   "cell_type": "markdown",
   "id": "b50ee0ce-09e6-4093-87b1-8ecbe4201120",
   "metadata": {},
   "source": [
    "### En complément de Big_O, mesure du temps\n",
    "\n",
    "Si la mesure du temps d'execution est dépendante du type de PC, des processus en cours d'execution etc., elle permet une approximation de l'efficacité  des algorithme choisis complémentaire à celle de la notation big_o.\n",
    "\n",
    "Suivant le conseil de [Marina Mele](http://www.marinamele.com/author/marina-melegmail-com) dans [7 tips to Time Python scripts and control Memory & CPU usage](https://www.marinamele.com/7-tips-to-time-python-scripts-and-control-memory-and-cpu-usage)\n"
   ]
  },
  {
   "cell_type": "code",
   "execution_count": 4,
   "id": "3a9efc65-0b08-488e-86bb-112e2986b3cb",
   "metadata": {},
   "outputs": [],
   "source": [
    " def fn_timer(function):\n",
    "        \n",
    "#    @wraps(function)\n",
    "    def function_timer(*args, **kwargs):\n",
    "        t0 = time.perf_counter_ns()\n",
    "        result = function(*args, **kwargs)\n",
    "        t1 = time.perf_counter_ns()\n",
    "        print (\"Total time running %s: %s nanoseconds\" %\n",
    "               (function.__name__, str(t1-t0))\n",
    "               )\n",
    "        return result\n",
    "    return function_timer"
   ]
  },
  {
   "cell_type": "code",
   "execution_count": 5,
   "id": "9a0ce587",
   "metadata": {},
   "outputs": [],
   "source": [
    "# nettoyer les données des fichiers en entrée\n",
    "def clean_char(texte: str) -> str:\n",
    "    \"\"\" on ne conserve que les caractères lisibles \n",
    "    les lettres, chiffres, ponctuations décimales et signes\n",
    "    les valeurs negatives sont acceptées, du point de vue profit.\n",
    "    \"\"\"\n",
    "    texte_propre = re.sub(r\"[^a-zA-Z0-9\\-\\.\\,\\+]\", \"\", texte.replace(',','.'))\n",
    "    return texte_propre"
   ]
  },
  {
   "cell_type": "markdown",
   "id": "915495c6",
   "metadata": {},
   "source": [
    "### Amélioration des données en V2\n",
    "\n",
    "1. Sur python le travail avec float est plus couteux qu'en entier.\n",
    "Une solution est alors de multiplier par 100 cout, budget et profit car cela ne change pas\n",
    "le résultat.\n",
    "\n",
    "2. Le tri du meilleur profit à contrainte de budget, dans la cas de l'algorithme glouton qui privilégie un tri au meilleur profit des actions peut evt. être amélioré en considérant le meilleur profit pour un cout de budget constant ; càd tri par profit/cout."
   ]
  },
  {
   "cell_type": "code",
   "execution_count": 6,
   "id": "ec44e90f",
   "metadata": {},
   "outputs": [],
   "source": [
    "\"\"\" lecture, nettoyage et chargement en dict.\n",
    "    les non valeurs NaN sont rejetées.\n",
    "\"\"\"\n",
    "action_dict = {}\n",
    "try:\n",
    "    with open(FILE, \"r\", newline='', encoding='utf-8') as file:\n",
    "        csv_reader = csv.DictReader(file, fieldnames=FIELDNAMES, \n",
    "                                    delimiter=';', doublequote=False)\n",
    "        # skip the header\n",
    "        next(csv_reader)\n",
    "        for idx, line in enumerate(csv_reader):\n",
    "            clean_data = True\n",
    "            if line[FIELDNAMES[0]] != \"\":\n",
    "                cle = clean_char(line[FIELDNAMES[0]])\n",
    "            else:\n",
    "                print(f\" line {idx} had missing share name; dropped.\")\n",
    "                clean_data = False\n",
    "            if line[FIELDNAMES[1]] != \"\":\n",
    "                cout = 100 * int(clean_char(line[FIELDNAMES[1]]))\n",
    "            else:\n",
    "                print(f\" line {idx} had missing cost data; dropped.\")\n",
    "                clean_data = False\n",
    "            if line[FIELDNAMES[3]] != \"\":\n",
    "                gain = int(100 * float(clean_char(line[FIELDNAMES[3]])))\n",
    "            else:\n",
    "                print(f\" line {idx} had missing profit data; dropped.\")\n",
    "                clean_data = False\n",
    "            if (gain < 0) or (cout < 0):\n",
    "                print(f\" line {idx} had negative value; accepted but pls check.\")\n",
    "            if (clean_data):\n",
    "                action_dict[cle] = (cout, gain)\n",
    "except FileNotFoundError:\n",
    "    print(f\" fichier non trouvé, Merci de vérifier son nom {file_name} : {FileNotFoundError}\")            \n",
    "except IOError:\n",
    "    print(f\" une erreur est survenue à l'écriture du fichier {file_name} : {IOError}\")            \n"
   ]
  },
  {
   "cell_type": "code",
   "execution_count": 7,
   "id": "2eb5202e",
   "metadata": {},
   "outputs": [
    {
     "data": {
      "text/plain": [
       "{'Action-1': (2000, 100),\n",
       " 'Action-2': (3000, 300),\n",
       " 'Action-3': (5000, 750),\n",
       " 'Action-4': (7000, 1400),\n",
       " 'Action-5': (6000, 1019),\n",
       " 'Action-6': (8000, 2000),\n",
       " 'Action-7': (2200, 154),\n",
       " 'Action-8': (2600, 286),\n",
       " 'Action-9': (4800, 624),\n",
       " 'Action-10': (3400, 918),\n",
       " 'Action-11': (4200, 714),\n",
       " 'Action-12': (11000, 990),\n",
       " 'Action-13': (3800, 874),\n",
       " 'Action-14': (1400, 14),\n",
       " 'Action-15': (1800, 54),\n",
       " 'Action-16': (800, 64),\n",
       " 'Action-17': (400, 48),\n",
       " 'Action-18': (1000, 140),\n",
       " 'Action-19': (2400, 504),\n",
       " 'Action-20': (11400, 2052)}"
      ]
     },
     "execution_count": 7,
     "metadata": {},
     "output_type": "execute_result"
    }
   ],
   "source": [
    "action_dict\n",
    "                "
   ]
  },
  {
   "cell_type": "markdown",
   "id": "444d141c",
   "metadata": {},
   "source": [
    "## 1. Algorithme Glouton\n",
    "\n",
    "[Algorithme glouton — Wikipédia](https://fr.wikipedia.org/wiki/Algorithme_glouton)\n",
    "\n",
    "Un **algorithme glouton** (_greedy algorithm_ en anglais, parfois appelé aussi algorithme gourmand, ou goulu) est un [algorithme](https://fr.wikipedia.org/wiki/Algorithmique \"Algorithmique\") qui suit le principe de faire, étape par étape, un choix optimum local, dans l'espoir d'obtenir un résultat optimum global. Par exemple, dans le problème du rendu de monnaie (donner une somme avec le moins possible de pièces), l'algorithme consistant à répéter le choix de la pièce de plus grande valeur qui ne dépasse pas la somme restante est un algorithme glouton.\n",
    "Dans le système de pièces (1, 3, 4), l'algorithme glouton n'est pas optimal, comme le montre l'exemple simple suivant. Il donne pour 6 : 4+1+1, alors que 3+3 est optimal. \n",
    "Mais optimal par rapport à quelle contrainte? à priori le nombre pièce utilisé. Si c'était avoir moins de pièce dans son portemonnaie, la 1ère solution était \"optimale\"."
   ]
  },
  {
   "cell_type": "markdown",
   "id": "5deda42f",
   "metadata": {},
   "source": [
    "### 1.2 Amélioration gloutonne\n",
    "\n"
   ]
  },
  {
   "cell_type": "code",
   "execution_count": 8,
   "id": "0fe74bac",
   "metadata": {},
   "outputs": [],
   "source": [
    "@fn_timer\n",
    "def algo_glouton(dictio: dict[str, tuple], budget: float) -> (float, list):\n",
    "    \"\"\"trions la liste par le plus grand profit avant d'épuiser le budget\"\"\"\n",
    "    action_trie = dict(sorted(dictio.items(), \n",
    "                              key=lambda x: x[1][1], reverse=True))\n",
    "\n",
    "    budget_left = budget\n",
    "    action_selected: list[str] = []\n",
    "    for cle, valeur in action_trie.items():\n",
    "        if budget_left - valeur[0] > 0:\n",
    "            action_selected.append(cle)\n",
    "            budget_left -= valeur[0]\n",
    "    return (budget_left, action_selected)\n"
   ]
  },
  {
   "cell_type": "code",
   "execution_count": 9,
   "id": "d76d11b4",
   "metadata": {},
   "outputs": [
    {
     "name": "stdout",
     "output_type": "stream",
     "text": [
      "Total time running algo_glouton: 22000 nanoseconds\n",
      "At a cost of  49600 ['Action-20', 'Action-6', 'Action-4', 'Action-5', 'Action-12', 'Action-10', 'Action-19', 'Action-17'] brought  8931  profit.\n"
     ]
    }
   ],
   "source": [
    "# executons la fonction sur les données précédentes\n",
    "reste_budget, actions_choisies = algo_glouton(action_dict,BUDGET)\n",
    "total_profit: int = round(sum(list(map(lambda x: action_dict[x][1],actions_choisies))),2)\n",
    "print('At a cost of ',BUDGET-reste_budget,actions_choisies,'brought ', total_profit, ' profit.')"
   ]
  },
  {
   "cell_type": "code",
   "execution_count": 10,
   "id": "a4c8f311",
   "metadata": {},
   "outputs": [
    {
     "data": {
      "text/plain": [
       "{'Action-1': (2000, 100),\n",
       " 'Action-2': (3000, 300),\n",
       " 'Action-3': (5000, 750),\n",
       " 'Action-7': (2200, 154),\n",
       " 'Action-8': (2600, 286),\n",
       " 'Action-9': (4800, 624),\n",
       " 'Action-11': (4200, 714),\n",
       " 'Action-13': (3800, 874),\n",
       " 'Action-14': (1400, 14),\n",
       " 'Action-15': (1800, 54),\n",
       " 'Action-16': (800, 64),\n",
       " 'Action-18': (1000, 140)}"
      ]
     },
     "execution_count": 10,
     "metadata": {},
     "output_type": "execute_result"
    }
   ],
   "source": [
    "# Parfait, ce n'est peut-être pas l'optimum mais c'est mieux que précédement.\n",
    "actions_restantes = {cle:valeur for cle,valeur in action_dict.items() if cle not in actions_choisies}\n",
    "actions_restantes"
   ]
  },
  {
   "cell_type": "markdown",
   "id": "e71443ae",
   "metadata": {},
   "source": [
    "#### Version 2"
   ]
  },
  {
   "cell_type": "code",
   "execution_count": 11,
   "id": "5285aabd",
   "metadata": {},
   "outputs": [],
   "source": [
    "def algo_glouton2(dictio: dict[str,tuple],budget: int) -> (int, list):\n",
    "    \"\"\" Tri par densité de profit càd que les actions au meilleur rapport profit/cout\n",
    "        sont les premières dans l'ordre\n",
    "    \"\"\"\n",
    "    action_trie = dict(sorted(dictio.items(), key=lambda x:x[1][1]/x[1][0], reverse=True))\n",
    "    budget_left = budget\n",
    "    action_selected: list[str] = []\n",
    "    for cle,valeur in action_trie.items():\n",
    "        if budget_left - valeur[0] > 0:\n",
    "            action_selected.append(cle)\n",
    "            budget_left -= valeur[0]\n",
    "    return (budget_left,action_selected)\n",
    "\n",
    "    "
   ]
  },
  {
   "cell_type": "code",
   "execution_count": 12,
   "id": "786e6b8a",
   "metadata": {},
   "outputs": [
    {
     "name": "stdout",
     "output_type": "stream",
     "text": [
      "Total time running algo_glouton: 18200 nanoseconds\n"
     ]
    }
   ],
   "source": [
    "# V2 : executons la fonction sur les données précédentes\n",
    "reste_budgetv2, actions_choisiesv2 = algo_glouton(action_dict,BUDGET)\n"
   ]
  },
  {
   "cell_type": "code",
   "execution_count": 13,
   "id": "12aebf18",
   "metadata": {},
   "outputs": [
    {
     "name": "stdout",
     "output_type": "stream",
     "text": [
      "['Action-20', 'Action-6', 'Action-4', 'Action-5', 'Action-12', 'Action-10', 'Action-19', 'Action-17']\n",
      "['Action-20', 'Action-6', 'Action-4', 'Action-5', 'Action-12', 'Action-10', 'Action-19', 'Action-17']\n"
     ]
    }
   ],
   "source": [
    "print(actions_choisiesv2)\n",
    "print(actions_choisies)"
   ]
  },
  {
   "cell_type": "code",
   "execution_count": 14,
   "id": "73e7afce",
   "metadata": {},
   "outputs": [
    {
     "name": "stdout",
     "output_type": "stream",
     "text": [
      "At a cost of  49600 ['Action-20', 'Action-6', 'Action-4', 'Action-5', 'Action-12', 'Action-10', 'Action-19', 'Action-17'] brought  8931  profit.\n"
     ]
    }
   ],
   "source": [
    "total_profitv2: float = round(sum(list(map(lambda x: action_dict[x][1],actions_choisiesv2))),2)\n",
    "print('At a cost of ',BUDGET-reste_budgetv2,actions_choisies,'brought ', total_profitv2, ' profit.')"
   ]
  },
  {
   "cell_type": "markdown",
   "id": "c0e9b85c",
   "metadata": {},
   "source": [
    "* dans notre cas de figure, le tri par densité n'apporte pas de changement dans le profit réalisé.\n",
    "cout = 496 et profit = 89.31.\n"
   ]
  },
  {
   "cell_type": "markdown",
   "id": "1d578fb9",
   "metadata": {},
   "source": [
    "## 2. Force brute ou explosion combinatoire\n",
    "\n",
    "[Recherche exhaustive — Wikipédia](https://fr.wikipedia.org/wiki/Recherche_exhaustive)\n",
    "\n",
    "Le principe de cet algorithme est d'essayer toutes les possibilités dans un intervalle. Un exemple courant est l'attaque par force brute des mots de passe. Si on sait que le mot de passe contient obligatoirement 4 chiffres, alors on essaie tous les nombres de 0000 à 9999 jusqu'à trouver le bon mot de passe.\n",
    "\n",
    "Il s'agit de calculer toutes les combinaisons d'action de ce portefeuille, d'en évaluer le cout et le profit puis de retenir la meilleure combinaison = le plus haut profit à hauteur du budget.\n",
    "\n",
    "Il faut un algorithme capable de calculer toutes les combinaisons de k pris par n actions, ici n = 20 et k = 1 à 20.\n",
    "\n",
    "$\n",
    "{n \\choose k}={\\frac {n!}{k!(n-k)!}}.\n",
    "{20 \\choose k}={\\frac {20!}{k!(20-k)!}}.\n",
    "$\n",
    "\n",
    "### 2.1 Estimation simple du nombre de calcul."
   ]
  },
  {
   "cell_type": "code",
   "execution_count": 15,
   "id": "6efc305f",
   "metadata": {},
   "outputs": [],
   "source": [
    "def number_combi(n: int, k: int) -> int:\n",
    "    def factorielle(x:int) -> int:\n",
    "        if x <=1:\n",
    "            return 1\n",
    "        else:\n",
    "            return (x * factorielle(x-1))\n",
    "    top = factorielle(n)\n",
    "    bot = factorielle(k) * factorielle(n-k)\n",
    "    if bot > 0:\n",
    "        return top/bot\n",
    "    else:\n",
    "        raise Error"
   ]
  },
  {
   "cell_type": "code",
   "execution_count": 16,
   "id": "17688d8d",
   "metadata": {},
   "outputs": [
    {
     "name": "stdout",
     "output_type": "stream",
     "text": [
      "1048575.0\n"
     ]
    }
   ],
   "source": [
    "N = len(action_dict.keys())\n",
    "number_of_combi = 0\n",
    "for K in range(N):\n",
    "    number_of_combi += number_combi(N, K)\n",
    "print(number_of_combi)   "
   ]
  },
  {
   "cell_type": "markdown",
   "id": "4fe229fd",
   "metadata": {},
   "source": [
    "\n",
    "Nous sommes prévenu, il y a environ 1 million de combinaison d'un portefeuille de 20 actions!\n",
    "Le calcul des combinaisons va être long!!  \n",
    "  \n",
    "### 2.2 Comment déterminer toutes les combinaisons possibles?  \n",
    "  \n",
    "* Comment lister toutes les combinaisons de r objets parmi n ?  \n",
    "[énumération des combinaisons](http://villemin.gerard.free.fr/Denombre/CbinEnum.htm)  \n",
    "  \n",
    "**Attention à l'explosion combinatoire!**  \n",
    "  \n",
    "##### 2.2.1 brute de brut  \n",
    "  \n",
    "Pour les combinaisons de k dans une liste de n éléments, on parcourt la liste, à partir du 1élément que l'on fixe et on cherche toutes les combinaisons de k-1 car des n-1 éléments restants.  \n",
    "Exemple court :  \n",
    "liste [1,2,3,4] N=len(liste) disons K=2 alors les 6 combinaisons seront:  \n",
    "1,2 ; 1,3 ; 1,4;  \n",
    "2,3 ; 2,4;  \n",
    "3,4  \n"
   ]
  },
  {
   "cell_type": "markdown",
   "id": "2da0d44d",
   "metadata": {},
   "source": [
    "#### 2.2.2 Fonction combinatoire proposée."
   ]
  },
  {
   "cell_type": "code",
   "execution_count": 17,
   "id": "19bab1fa",
   "metadata": {},
   "outputs": [],
   "source": [
    "# détermination itérative des combinaisons possibles de longueur length\n",
    "# utilisation yield au lieu de return pour une meilleure efficacité en mémoire\n",
    "\n",
    "def choose_iter(elements, length, track=False):\n",
    "    if track: print('iteration loop on ',elements)\n",
    "    # pour le 1er élément de la combinaison, il peut prendre toute valeur de la liste\n",
    "    for i in range(len(elements)):\n",
    "        # singelton -> on rapporte des t-uple de 1 avec le 1er élément lui-même\n",
    "        if track: print('next first: [',elements[i], '] at position: ',i)\n",
    "        if length == 1:\n",
    "            yield [elements[i],]\n",
    "        else:\n",
    "            # on prend la liste réduite à partir de l'élément suivant i et \n",
    "            # on en cherche les combinaisons de longueur -1\n",
    "            for next1 in choose_iter(elements[i+1:len(elements)], length-1):\n",
    "                # et on retourne la liste précédent  plus la liste de l'appel suivant\n",
    "                if track: print('    next t-uple,',next1, ' at position: ',i,' of sub-list:',elements[i+1:len(elements)])\n",
    "                yield [elements[i],] + next1\n",
    "# toutes les combinaisons de k éléments de la liste l\n",
    "\n",
    "def choose(l, k, track=False):\n",
    "    return list(choose_iter(l, k, track))"
   ]
  },
  {
   "cell_type": "markdown",
   "id": "ffef12a2",
   "metadata": {},
   "source": [
    "#### 2.2.3 Jouons avec la fonction pour en comprendre le fonctionnement"
   ]
  },
  {
   "cell_type": "code",
   "execution_count": 18,
   "id": "075a3134",
   "metadata": {},
   "outputs": [],
   "source": [
    "# pour mémoire nombre d'élément demandé, nbr min, nombre max de chiffre de l'élément\n",
    "#def integers(n, min_, max_):\n",
    "#    \"\"\" Return sequence of N random integers between min_ and max_ (included).\n",
    "#    \"\"\"\n",
    "#    return [random.randint(min_, max_) for _ in range(n)]\n",
    "\n",
    "\n",
    "list_2 = big_o.datagen.integers(4, 1, 10)\n"
   ]
  },
  {
   "cell_type": "code",
   "execution_count": 19,
   "id": "3e15d5ec",
   "metadata": {},
   "outputs": [
    {
     "name": "stdout",
     "output_type": "stream",
     "text": [
      "iteration loop on  [3, 4, 5, 5]\n",
      "next first: [ 3 ] at position:  0\n",
      "    next t-uple, [4, 5]  at position:  0  of sub-list: [4, 5, 5]\n",
      "    next t-uple, [4, 5]  at position:  0  of sub-list: [4, 5, 5]\n",
      "    next t-uple, [5, 5]  at position:  0  of sub-list: [4, 5, 5]\n",
      "next first: [ 4 ] at position:  1\n",
      "    next t-uple, [5, 5]  at position:  1  of sub-list: [5, 5]\n",
      "next first: [ 5 ] at position:  2\n",
      "next first: [ 5 ] at position:  3\n"
     ]
    },
    {
     "data": {
      "text/plain": [
       "[[3, 4, 5], [3, 4, 5], [3, 5, 5], [4, 5, 5]]"
      ]
     },
     "execution_count": 19,
     "metadata": {},
     "output_type": "execute_result"
    }
   ],
   "source": [
    "choose(list_2,3, track=True)"
   ]
  },
  {
   "cell_type": "markdown",
   "id": "d591172c",
   "metadata": {},
   "source": [
    "#### 2.2.4 Utilisation pour générer les combinaisons de la Force Brute"
   ]
  },
  {
   "cell_type": "code",
   "execution_count": 20,
   "id": "708a4edc",
   "metadata": {},
   "outputs": [],
   "source": [
    "liste_action_pf = [x[0] for x in action_dict.items()]\n"
   ]
  },
  {
   "cell_type": "code",
   "execution_count": 21,
   "id": "55d29449-5ad9-469c-8a8b-21b48a948c54",
   "metadata": {},
   "outputs": [],
   "source": [
    "@fn_timer\n",
    "def algo_force_brute(portefeuille: list) -> list:\n",
    "    liste_combinaison = []\n",
    "    for bn_element_tuple in range(len(liste_action_pf)+1):\n",
    "        liste_combinaison.extend(choose(liste_action_pf, bn_element_tuple))\n",
    "    return liste_combinaison"
   ]
  },
  {
   "cell_type": "code",
   "execution_count": 22,
   "id": "8593b173",
   "metadata": {},
   "outputs": [
    {
     "name": "stdout",
     "output_type": "stream",
     "text": [
      "Total time running algo_force_brute: 11223486900 nanoseconds\n",
      "[['Action-11'], ['Action-12'], ['Action-13']]\n"
     ]
    }
   ],
   "source": [
    "combinaison_force_brute = algo_force_brute(liste_action_pf)\n",
    "print(combinaison_force_brute[10:13])"
   ]
  },
  {
   "cell_type": "markdown",
   "id": "6c292b29",
   "metadata": {},
   "source": [
    "**A l'impression, message d'averstissement Jupyter:**\n",
    "\n",
    "```\n",
    "IOPub data rate exceeded.\n",
    "The notebook server will temporarily stop sending output\n",
    "to the client in order to avoid crashing it.\n",
    "To change this limit, set the config variable\n",
    "`--NotebookApp.iopub_data_rate_limit`.\n",
    "\n",
    "Current values:\n",
    "NotebookApp.iopub_data_rate_limit=1000000.0 (bytes/sec)\n",
    "NotebookApp.rate_limit_window=3.0 (secs)\n",
    "```\n",
    "Par contre, l'output s'affiche partiellement là ou le print bloque."
   ]
  },
  {
   "cell_type": "code",
   "execution_count": 23,
   "id": "49a49a2f",
   "metadata": {
    "tags": []
   },
   "outputs": [],
   "source": [
    "#len(combinaison_force_brute)\n",
    "#>1048575"
   ]
  },
  {
   "cell_type": "code",
   "execution_count": 24,
   "id": "860332af-2a4e-4f49-9522-b0152b6b8386",
   "metadata": {},
   "outputs": [],
   "source": [
    "# comptage par taille de tuple & long \n",
    "if False:\n",
    "    dict_combinaison_taille = {x:[] for x in range(1,len(liste_action_pf)+1)}\n",
    "# comptage par taille de tuple selon la taille de l'élément\n",
    "    for el in map(lambda x:(len(x),x) ,combinaison_force_brute):\n",
    "        dict_combinaison_taille[el[0]].append(el[1])\n",
    "    for niveau in range(1,len(dict_combinaison_taille)+1):\n",
    "        print(niveau,len(dict_combinaison_taille[niveau]))"
   ]
  },
  {
   "cell_type": "markdown",
   "id": "3604cf96",
   "metadata": {},
   "source": [
    "##### comptage par taille de tuple selon la taille de l'élément  \n",
    "1 20  \n",
    "2 190  \n",
    "3 1140  \n",
    "4 4845  \n",
    "5 15504  \n",
    "6 38760  \n",
    "7 77520  \n",
    "8 125970  \n",
    "9 167960  \n",
    "10 184756  \n",
    "11 167960  \n",
    "12 125970  \n",
    "13 77520  \n",
    "14 38760  \n",
    "15 15504  \n",
    "16 4845  \n",
    "17 1140  \n",
    "18 190  \n",
    "19 20  \n",
    "20 1  \n",
    "  \n",
    "## 2.3 Explosion Force brute!  \n",
    "Les éléments sont en place ; on connait le million de combinaison d'action possible ; calculons en cout et profit et déterminons le meilleur.  \n",
    "Allons y!  \n",
    "\n",
    "Struture des données à combiner : précédement nous avons passé une liste en paramètre à la fonction choose pour construire les combinaisons.\n",
    "Sachant que la construction utilise le parcours de liste (for in range() ), la liste semble adaptée pour la construction des combinaisons.\n",
    "Liste(combinaisons, cout, profit) : une liste de tuple ; combinaisons étant une liste d'action.\n",
    "\n",
    "Structure du programme en 3 étapes :\n",
    "1. construire toutes les combinaisons\n",
    "2. évaluer cout et profit de chaque combinaison\n",
    "3. détermination de la meilleure solution\n"
   ]
  },
  {
   "cell_type": "code",
   "execution_count": 25,
   "id": "023cb395",
   "metadata": {},
   "outputs": [
    {
     "data": {
      "text/plain": [
       "[['Action-1', 'Action-5', 'Action-10', 'Action-11', 'Action-12', 'Action-19'],\n",
       " ['Action-1', 'Action-5', 'Action-10', 'Action-11', 'Action-12', 'Action-20'],\n",
       " ['Action-1', 'Action-5', 'Action-10', 'Action-11', 'Action-13', 'Action-14'],\n",
       " ['Action-1', 'Action-5', 'Action-10', 'Action-11', 'Action-13', 'Action-15'],\n",
       " ['Action-1', 'Action-5', 'Action-10', 'Action-11', 'Action-13', 'Action-16']]"
      ]
     },
     "execution_count": 25,
     "metadata": {},
     "output_type": "execute_result"
    }
   ],
   "source": [
    "# en entrée : liste de liste de str = liste de liste d'action\n",
    "combinaison_force_brute[30000:30005]"
   ]
  },
  {
   "cell_type": "code",
   "execution_count": null,
   "id": "9d45c187",
   "metadata": {},
   "outputs": [],
   "source": []
  },
  {
   "cell_type": "code",
   "execution_count": 26,
   "id": "6155d7f6",
   "metadata": {},
   "outputs": [],
   "source": [
    "@fn_timer\n",
    "def calcul_combinaison(liste_act: list[str]) -> (list, int, int):\n",
    "    \"\"\"A chaque combinaison associer cout et profit\n",
    "        \"\"\"\n",
    "    liste_valorisee = []\n",
    "    for share in liste_act:\n",
    "        cout_combinaison = sum( (map(lambda x: action_dict[x][0], share)))\n",
    "        profit_combinaison = sum( (map(lambda x: action_dict[x][1], share)))\n",
    "        liste_valorisee.append((share, cout_combinaison, profit_combinaison))\n",
    "    return liste_valorisee"
   ]
  },
  {
   "cell_type": "code",
   "execution_count": 27,
   "id": "74a97c83-2276-437a-a53e-7c83f0438e75",
   "metadata": {},
   "outputs": [
    {
     "name": "stdout",
     "output_type": "stream",
     "text": [
      "Total time running calcul_combinaison: 19300 nanoseconds\n"
     ]
    },
    {
     "data": {
      "text/plain": [
       "[(['Action-1', 'Action-5', 'Action-10', 'Action-11', 'Action-12', 'Action-19'],\n",
       "  29000,\n",
       "  4245),\n",
       " (['Action-1', 'Action-5', 'Action-10', 'Action-11', 'Action-12', 'Action-20'],\n",
       "  38000,\n",
       "  5793),\n",
       " (['Action-1', 'Action-5', 'Action-10', 'Action-11', 'Action-13', 'Action-14'],\n",
       "  20800,\n",
       "  3639),\n",
       " (['Action-1', 'Action-5', 'Action-10', 'Action-11', 'Action-13', 'Action-15'],\n",
       "  21200,\n",
       "  3679),\n",
       " (['Action-1', 'Action-5', 'Action-10', 'Action-11', 'Action-13', 'Action-16'],\n",
       "  20200,\n",
       "  3689)]"
      ]
     },
     "execution_count": 27,
     "metadata": {},
     "output_type": "execute_result"
    }
   ],
   "source": [
    "calcul_combinaison([['Action-1', 'Action-5', 'Action-10', 'Action-11', 'Action-12', 'Action-19'],\n",
    " ['Action-1', 'Action-5', 'Action-10', 'Action-11', 'Action-12', 'Action-20'],\n",
    " ['Action-1', 'Action-5', 'Action-10', 'Action-11', 'Action-13', 'Action-14'],\n",
    " ['Action-1', 'Action-5', 'Action-10', 'Action-11', 'Action-13', 'Action-15'],\n",
    " ['Action-1', 'Action-5', 'Action-10', 'Action-11', 'Action-13', 'Action-16']])"
   ]
  },
  {
   "cell_type": "code",
   "execution_count": 29,
   "id": "2ffa1577-754c-4629-9c24-429931faa74b",
   "metadata": {},
   "outputs": [
    {
     "name": "stdout",
     "output_type": "stream",
     "text": [
      "Total time running calcul_combinaison: 4470688800 nanoseconds\n"
     ]
    }
   ],
   "source": [
    "# calcul complet\n",
    "combinaisons_valorisees = calcul_combinaison(combinaison_force_brute)"
   ]
  },
  {
   "cell_type": "markdown",
   "id": "0b8b8a55-c997-401c-8ce4-d19ceb0e41c4",
   "metadata": {},
   "source": [
    "Résultat \n",
    "\n",
    "Total time running calcul_combinaison: 4495526300 nanoseconds\n",
    "\n",
    "[(['Action-1'], 2000, 100),  \n",
    " (['Action-2'], 3000, 300),  \n",
    " (['Action-3'], 5000, 750),  \n",
    " (['Action-4'], 7000, 1400),  \n",
    " (['Action-5'], 6000, 1019),  \n",
    " (['Action-6'], 8000, 2000),  \n",
    " \n",
    " \n",
    " #### Etape 3 déterminer l'élément à plus haut profit pour un budget <= 50000"
   ]
  },
  {
   "cell_type": "code",
   "execution_count": null,
   "id": "cfde6dce-8a80-47a0-88c3-e50c58e36f55",
   "metadata": {},
   "outputs": [],
   "source": [
    "resultat = max(combinaisons_valorisees)"
   ]
  }
 ],
 "metadata": {
  "kernelspec": {
   "display_name": "Python 3 (ipykernel)",
   "language": "python",
   "name": "python3"
  },
  "language_info": {
   "codemirror_mode": {
    "name": "ipython",
    "version": 3
   },
   "file_extension": ".py",
   "mimetype": "text/x-python",
   "name": "python",
   "nbconvert_exporter": "python",
   "pygments_lexer": "ipython3",
   "version": "3.9.7"
  }
 },
 "nbformat": 4,
 "nbformat_minor": 5
}
