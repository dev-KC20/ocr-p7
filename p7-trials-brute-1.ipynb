{
 "cells": [
  {
   "cell_type": "markdown",
   "id": "20c24205",
   "metadata": {},
   "source": [
    "\n",
    "## P7: Résolvez des problèmes en utilisant des algorithmes en Python #1\n",
    "\n",
    "\n",
    "Repartir des essais de découverte précédent pour améliorer la calcul brute force au mieux.\n",
    "Si la contrainte est toujours du style budget maximum, il est inutile de conserver les combinaisons dont le cout est > BUDGET.\n",
    "Cela n'en devient pas pour autant de la programmation dynamique, réservée à l'algo suivant ;\n",
    "la programmation dynamique évitant de recalculer des sous-arbres déja parcourus.\n",
    "\n",
    "\n",
    "* Caculer simultanément à l'explosion combinatoire.\n",
    "Dans les essais de découverte, j'ai dans un 1er temps explosé toutes les combinaisons possibles puis ensuite seulement calculé et limité au sous-ensemble de budget <= BUDGET.\n",
    "Un calcul simultané permettrait la vérification de contrainte non atteinte et la réduction de l'ensemble des solutions possibles.\n",
    "\n",
    "* Structure de donnée.\n",
    "Pour \"porter\" les combinaisons une liste est envisageable avec pour chercher les données (cout, profit) de chaque action un dictionnaire semble efficace.\n",
    "\n",
    "\n",
    "\n",
    "### 1. Préparation des données\n",
    "\n"
   ]
  },
  {
   "cell_type": "code",
   "execution_count": 1,
   "id": "bf958757",
   "metadata": {},
   "outputs": [],
   "source": [
    "import csv as csv\n",
    "import re as re\n",
    "import time\n",
    "\n"
   ]
  },
  {
   "cell_type": "code",
   "execution_count": 2,
   "id": "2268135b",
   "metadata": {},
   "outputs": [],
   "source": [
    "try:\n",
    "    import big_o\n",
    "except ModuleNotFoundError:\n",
    "    print('cherche',ModuleNotFoundError)\n",
    "    !pip install --upgrade pip\n",
    "    !pip install big_o\n",
    "    import big_o"
   ]
  },
  {
   "cell_type": "code",
   "execution_count": 3,
   "id": "9620746e",
   "metadata": {},
   "outputs": [],
   "source": [
    "# constant\n",
    "#FILE = \"data/p7-20-shares.csv\" \n",
    "#FIELDNAMES = ['name', 'cost', 'profit_share', 'profit']\n",
    "\n",
    "FILE = \"data/dataset1_Python+P7\" \n",
    "FIELDNAMES = ['name', 'cost', 'profit']\n",
    "BUDGET = 50000"
   ]
  },
  {
   "cell_type": "markdown",
   "id": "b50ee0ce-09e6-4093-87b1-8ecbe4201120",
   "metadata": {},
   "source": [
    "### En complément de Big_O, mesure du temps\n",
    "\n",
    "Si la mesure du temps d'execution est dépendante du type de PC, des processus en cours d'execution etc., elle permet une approximation de l'efficacité  des algorithme choisis complémentaire à celle de la notation big_o.\n",
    "\n",
    "Suivant le conseil de [Marina Mele](http://www.marinamele.com/author/marina-melegmail-com) dans [7 tips to Time Python scripts and control Memory & CPU usage](https://www.marinamele.com/7-tips-to-time-python-scripts-and-control-memory-and-cpu-usage)\n"
   ]
  },
  {
   "cell_type": "code",
   "execution_count": 4,
   "id": "3a9efc65-0b08-488e-86bb-112e2986b3cb",
   "metadata": {},
   "outputs": [],
   "source": [
    " def fn_timer(function):\n",
    "        \n",
    "#    @wraps(function)\n",
    "    def function_timer(*args, **kwargs):\n",
    "        t0 = time.perf_counter_ns()\n",
    "        result = function(*args, **kwargs)\n",
    "        t1 = time.perf_counter_ns()\n",
    "        print (\"Total time running %s: %s nanoseconds\" %\n",
    "               (function.__name__, str(t1-t0))\n",
    "               )\n",
    "        return result\n",
    "    return function_timer"
   ]
  },
  {
   "cell_type": "code",
   "execution_count": 5,
   "id": "9a0ce587",
   "metadata": {},
   "outputs": [],
   "source": [
    "# nettoyer les données des fichiers en entrée\n",
    "def clean_char(texte: str) -> str:\n",
    "    \"\"\" on ne conserve que les caractères lisibles \n",
    "    les lettres, chiffres, ponctuations décimales et signes\n",
    "    les valeurs negatives sont acceptées, du point de vue profit.\n",
    "    \"\"\"\n",
    "    texte_propre = re.sub(r\"[^a-zA-Z0-9\\-\\.\\,\\+]\", \"\", texte.replace(',','.'))\n",
    "    return texte_propre"
   ]
  },
  {
   "cell_type": "markdown",
   "id": "915495c6",
   "metadata": {},
   "source": [
    "### Amélioration des données\n",
    "\n",
    "Sur python le travail avec float est plus couteux qu'en entier.\n",
    "Une solution est alors de multiplier par 100 cout, budget et profit car cela ne change pas\n",
    "le résultat.\n"
   ]
  },
  {
   "cell_type": "code",
   "execution_count": 6,
   "id": "ec44e90f",
   "metadata": {},
   "outputs": [],
   "source": [
    "\"\"\" lecture, nettoyage et chargement en dict.\n",
    "    les non valeurs NaN sont rejetées.\n",
    "\"\"\"\n",
    "action_dict = {}\n",
    "try:\n",
    "    with open(FILE, \"r\", newline='', encoding='utf-8') as file:\n",
    "        csv_reader = csv.DictReader(file, fieldnames=FIELDNAMES, \n",
    "                                    delimiter=';', doublequote=False)\n",
    "        # skip the header\n",
    "        next(csv_reader)\n",
    "        for idx, line in enumerate(csv_reader):\n",
    "            clean_data = True\n",
    "            if line[FIELDNAMES[0]] != \"\":\n",
    "                cle = clean_char(line[FIELDNAMES[0]])\n",
    "            else:\n",
    "                print(f\" line {idx} had missing share name; dropped.\")\n",
    "                clean_data = False\n",
    "            if line[FIELDNAMES[1]] != \"\":\n",
    "                cout = 100 * int(clean_char(line[FIELDNAMES[1]]))\n",
    "            else:\n",
    "                print(f\" line {idx} had missing cost data; dropped.\")\n",
    "                clean_data = False\n",
    "            if line[FIELDNAMES[3]] != \"\":\n",
    "                gain = int(100 * float(clean_char(line[FIELDNAMES[3]])))\n",
    "            else:\n",
    "                print(f\" line {idx} had missing profit data; dropped.\")\n",
    "                clean_data = False\n",
    "            if (gain < 0) or (cout < 0):\n",
    "                print(f\" line {idx} had negative value; accepted but pls check.\")\n",
    "            if (clean_data):\n",
    "                action_dict[cle] = (cout, gain)\n",
    "except FileNotFoundError:\n",
    "    print(f\" fichier non trouvé, Merci de vérifier son nom {file_name} : {FileNotFoundError}\")            \n",
    "except IOError:\n",
    "    print(f\" une erreur est survenue à l'écriture du fichier {file_name} : {IOError}\")            \n"
   ]
  },
  {
   "cell_type": "code",
   "execution_count": 7,
   "id": "2eb5202e",
   "metadata": {},
   "outputs": [
    {
     "data": {
      "text/plain": [
       "{'Action-1': (2000, 100),\n",
       " 'Action-2': (3000, 300),\n",
       " 'Action-3': (5000, 750),\n",
       " 'Action-4': (7000, 1400),\n",
       " 'Action-5': (6000, 1019),\n",
       " 'Action-6': (8000, 2000),\n",
       " 'Action-7': (2200, 154),\n",
       " 'Action-8': (2600, 286),\n",
       " 'Action-9': (4800, 624),\n",
       " 'Action-10': (3400, 918),\n",
       " 'Action-11': (4200, 714),\n",
       " 'Action-12': (11000, 990),\n",
       " 'Action-13': (3800, 874),\n",
       " 'Action-14': (1400, 14),\n",
       " 'Action-15': (1800, 54),\n",
       " 'Action-16': (800, 64),\n",
       " 'Action-17': (400, 48),\n",
       " 'Action-18': (1000, 140),\n",
       " 'Action-19': (2400, 504),\n",
       " 'Action-20': (11400, 2052)}"
      ]
     },
     "execution_count": 7,
     "metadata": {},
     "output_type": "execute_result"
    }
   ],
   "source": [
    "action_dict\n",
    "                "
   ]
  },
  {
   "cell_type": "markdown",
   "id": "1d578fb9",
   "metadata": {},
   "source": [
    "### 2. Calcul brute force.\n",
    "\n",
    "$\n",
    "{n \\choose k}={\\frac {n!}{k!(n-k)!}}.\n",
    "\n",
    "\n",
    "### 2.1 Estimation simple du nombre de calcul maximum.\n",
    "\n",
    "entendre : Non réduit à la contrainte BUDGET."
   ]
  },
  {
   "cell_type": "code",
   "execution_count": 8,
   "id": "6efc305f",
   "metadata": {},
   "outputs": [],
   "source": [
    "def number_combi(n: int, k: int) -> int:\n",
    "    def factorielle(x:int) -> int:\n",
    "        if x <=1:\n",
    "            return 1\n",
    "        else:\n",
    "            return (x * factorielle(x-1))\n",
    "    top = factorielle(n)\n",
    "    bot = factorielle(k) * factorielle(n-k)\n",
    "    if bot > 0:\n",
    "        return top/bot\n",
    "    else:\n",
    "        raise Error"
   ]
  },
  {
   "cell_type": "code",
   "execution_count": 9,
   "id": "17688d8d",
   "metadata": {},
   "outputs": [],
   "source": [
    "denombrement = False\n",
    "if denombrement:\n",
    "    N = len(action_dict.keys())\n",
    "    number_of_combi = 0\n",
    "    for K in range(N):\n",
    "        number_of_combi += number_combi(N, K)\n",
    "    print(number_of_combi)   "
   ]
  },
  {
   "cell_type": "markdown",
   "id": "4fe229fd",
   "metadata": {},
   "source": [
    "\n",
    "Nous sommes prévenu, il y a environ 1 million de combinaison d'un portefeuille de 20 actions!\n",
    "Le calcul des combinaisons va être long!!  \n",
    "  \n"
   ]
  },
  {
   "cell_type": "markdown",
   "id": "2da0d44d",
   "metadata": {},
   "source": [
    "#### 2.3 Fonction combinatoire proposée."
   ]
  },
  {
   "cell_type": "code",
   "execution_count": 10,
   "id": "ddc92cab-58d2-4efa-b7b1-f82b93c7197a",
   "metadata": {},
   "outputs": [
    {
     "data": {
      "text/plain": [
       "[(['Action-1'], 2000, 100),\n",
       " (['Action-2'], 3000, 300),\n",
       " (['Action-3'], 5000, 750),\n",
       " (['Action-4'], 7000, 1400),\n",
       " (['Action-5'], 6000, 1019),\n",
       " (['Action-6'], 8000, 2000),\n",
       " (['Action-7'], 2200, 154),\n",
       " (['Action-8'], 2600, 286),\n",
       " (['Action-9'], 4800, 624),\n",
       " (['Action-10'], 3400, 918),\n",
       " (['Action-11'], 4200, 714),\n",
       " (['Action-12'], 11000, 990),\n",
       " (['Action-13'], 3800, 874),\n",
       " (['Action-14'], 1400, 14),\n",
       " (['Action-15'], 1800, 54),\n",
       " (['Action-16'], 800, 64),\n",
       " (['Action-17'], 400, 48),\n",
       " (['Action-18'], 1000, 140),\n",
       " (['Action-19'], 2400, 504),\n",
       " (['Action-20'], 11400, 2052)]"
      ]
     },
     "execution_count": 10,
     "metadata": {},
     "output_type": "execute_result"
    }
   ],
   "source": [
    "# initialize\n",
    "actions_list = [([x],y[0],y[1]) for x,y in action_dict.items()]\n",
    "actions_list"
   ]
  },
  {
   "cell_type": "code",
   "execution_count": 11,
   "id": "a05a60e6-6689-46f1-a074-6593f6109bc9",
   "metadata": {},
   "outputs": [],
   "source": [
    "def explode_iter(elements, length):\n",
    "    \"\"\" global action_dict to fetch cost & profit \n",
    "    elements would be list(tuple(list, cost, profit))\n",
    "    \"\"\"\n",
    "  \n",
    "    # pour le 1er élément de la combinaison, il peut prendre toute valeur de la liste\n",
    "    for i in range(len(elements)):\n",
    "        # singelton -> on rapporte des t-uple de 1 avec le 1er élément lui-même\n",
    "        if length == 1:\n",
    "            yield (elements[i][0] , elements[i][1], elements[i][2])\n",
    "        else:\n",
    "            # on prend la liste réduite à partir de l'élément suivant i et \n",
    "            # on en cherche les combinaisons de longueur -1\n",
    "            \n",
    "            #print('sous-liste:',elements[i+1:len(elements)])\n",
    "            #print('à i:',i)\n",
    "            for next1 in explode_iter(elements[i+1:len(elements)], length-1):\n",
    "\n",
    "                #print('next1:',next1)\n",
    "                #print('elements[0][1]',elements[i][1])\n",
    "                #print('next1[0]:',next1[0])\n",
    "                # et on retourne la liste précédent  plus la liste de l'appel suivant\n",
    "                cout = elements[i][1] + next1[1]\n",
    "                profit = elements[i][2] + next1[2]\n",
    "                # optimisation\n",
    "                if cout <= BUDGET:\n",
    "                    yield (elements[i][0] + next1[0],\n",
    "                           cout,\n",
    "                           profit)\n",
    "# toutes les combinaisons de k éléments de la liste l"
   ]
  },
  {
   "cell_type": "code",
   "execution_count": 12,
   "id": "593963d3-eeba-4182-b4cc-35903c82b03c",
   "metadata": {},
   "outputs": [
    {
     "data": {
      "text/plain": [
       "[(['Action-1'], 2000, 100),\n",
       " (['Action-2'], 3000, 300),\n",
       " (['Action-3'], 5000, 750),\n",
       " (['Action-4'], 7000, 1400),\n",
       " (['Action-5'], 6000, 1019),\n",
       " (['Action-6'], 8000, 2000),\n",
       " (['Action-7'], 2200, 154),\n",
       " (['Action-8'], 2600, 286),\n",
       " (['Action-9'], 4800, 624),\n",
       " (['Action-10'], 3400, 918),\n",
       " (['Action-11'], 4200, 714),\n",
       " (['Action-12'], 11000, 990),\n",
       " (['Action-13'], 3800, 874),\n",
       " (['Action-14'], 1400, 14),\n",
       " (['Action-15'], 1800, 54),\n",
       " (['Action-16'], 800, 64),\n",
       " (['Action-17'], 400, 48),\n",
       " (['Action-18'], 1000, 140),\n",
       " (['Action-19'], 2400, 504),\n",
       " (['Action-20'], 11400, 2052)]"
      ]
     },
     "execution_count": 12,
     "metadata": {},
     "output_type": "execute_result"
    }
   ],
   "source": [
    "list(explode_iter(actions_list, 1))"
   ]
  },
  {
   "cell_type": "code",
   "execution_count": 13,
   "id": "55d29449-5ad9-469c-8a8b-21b48a948c54",
   "metadata": {},
   "outputs": [],
   "source": [
    "@fn_timer\n",
    "def algo_force_brute(portefeuille: list) -> list:\n",
    "    liste_output = []\n",
    "    for largeur in range(1,len(portefeuille)+1):\n",
    "        liste_output.extend(list(explode_iter(portefeuille, largeur)))\n",
    "    return liste_output"
   ]
  },
  {
   "cell_type": "code",
   "execution_count": 14,
   "id": "8593b173",
   "metadata": {},
   "outputs": [
    {
     "name": "stdout",
     "output_type": "stream",
     "text": [
      "Total time running algo_force_brute: 13020773700 nanoseconds\n"
     ]
    }
   ],
   "source": [
    "explosion_force_brute = algo_force_brute(actions_list)\n"
   ]
  },
  {
   "cell_type": "code",
   "execution_count": 15,
   "id": "77d6be84-699d-4886-a434-39a854626d7e",
   "metadata": {},
   "outputs": [],
   "source": [
    "#explosion_force_brute"
   ]
  },
  {
   "cell_type": "markdown",
   "id": "0b8b8a55-c997-401c-8ce4-d19ceb0e41c4",
   "metadata": {},
   "source": [
    "Résultat \n",
    "\n",
    "\n",
    "Total time running algo_force_brute: 13138267100 nanoseconds\n",
    "\n",
    "\n",
    "Le print de l'explosion combinatoire est lourd en ressource.\n",
    "\n",
    "`IOPub data rate exceeded.\n",
    "`The Jupyter server will temporarily stop sending output\n",
    "`to the client in order to avoid crashing it.\n",
    "`To change this limit, set the config variable\n",
    "`--ServerApp.iopub_data_rate_limit`.\n",
    "\n",
    "Current values:\n",
    "ServerApp.iopub_data_rate_limit=1000000.0 (bytes/sec)\n",
    "ServerApp.rate_limit_window=3.0 (secs)\n",
    "\n",
    "\n",
    "\n",
    " \n",
    " \n",
    " #### Etape 3 déterminer l'élément à plus haut profit pour un budget <= 50000\n",
    " \n",
    " Un tri puis une recherche dichotomique?\n",
    " ou\n",
    " Une recherche non dichotomique dans une liste non préalablement triée??\n",
    " ou le parcours complet de la liste une fois\n",
    " "
   ]
  },
  {
   "cell_type": "code",
   "execution_count": 16,
   "id": "cfde6dce-8a80-47a0-88c3-e50c58e36f55",
   "metadata": {},
   "outputs": [],
   "source": [
    "## tri par profit puis cout décroissant\n",
    "explosion_force_brute.sort(key = lambda sub : sub[2] ,reverse = True)"
   ]
  },
  {
   "cell_type": "code",
   "execution_count": 17,
   "id": "4a73efd9-c952-42ea-abb4-78a664c791f9",
   "metadata": {},
   "outputs": [
    {
     "data": {
      "text/plain": [
       "(['Action-4',\n",
       "  'Action-5',\n",
       "  'Action-6',\n",
       "  'Action-8',\n",
       "  'Action-10',\n",
       "  'Action-11',\n",
       "  'Action-13',\n",
       "  'Action-18',\n",
       "  'Action-19',\n",
       "  'Action-20'],\n",
       " 49800,\n",
       " 9907)"
      ]
     },
     "execution_count": 17,
     "metadata": {},
     "output_type": "execute_result"
    }
   ],
   "source": [
    "explosion_force_brute[0]"
   ]
  },
  {
   "cell_type": "code",
   "execution_count": 18,
   "id": "4a2d946b-1bf3-49af-8592-a5381495d9b3",
   "metadata": {},
   "outputs": [],
   "source": [
    "meilleur_profit = 0\n",
    "meilleur_budget = 0\n",
    "meilleur_combinaison = []\n",
    "for courant in explosion_force_brute:\n",
    "    if (courant[2] > meilleur_profit) & (courant[1] < BUDGET):\n",
    "        meilleur_profit = courant[2]\n",
    "        meilleur_budget = courant[1]\n",
    "        meilleur_combinaison = courant[0]\n"
   ]
  },
  {
   "cell_type": "code",
   "execution_count": 19,
   "id": "b0ad0bf6-f657-48aa-8e8e-15256158f998",
   "metadata": {},
   "outputs": [
    {
     "name": "stdout",
     "output_type": "stream",
     "text": [
      "9907 49800 ['Action-4', 'Action-5', 'Action-6', 'Action-8', 'Action-10', 'Action-11', 'Action-13', 'Action-18', 'Action-19', 'Action-20']\n"
     ]
    }
   ],
   "source": [
    "print(meilleur_profit, meilleur_budget, meilleur_combinaison)"
   ]
  },
  {
   "cell_type": "markdown",
   "id": "918c5beb-562e-42fa-816e-c63044c6b7e7",
   "metadata": {},
   "source": [
    "9907 49800 ['Action-4', 'Action-5', 'Action-6', 'Action-8', 'Action-10', 'Action-11', 'Action-13', 'Action-18', 'Action-19', 'Action-20']\n",
    "\n"
   ]
  }
 ],
 "metadata": {
  "kernelspec": {
   "display_name": "Python 3 (ipykernel)",
   "language": "python",
   "name": "python3"
  },
  "language_info": {
   "codemirror_mode": {
    "name": "ipython",
    "version": 3
   },
   "file_extension": ".py",
   "mimetype": "text/x-python",
   "name": "python",
   "nbconvert_exporter": "python",
   "pygments_lexer": "ipython3",
   "version": "3.9.7"
  }
 },
 "nbformat": 4,
 "nbformat_minor": 5
}
