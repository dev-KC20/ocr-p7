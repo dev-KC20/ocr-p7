{
 "cells": [
  {
   "cell_type": "markdown",
   "id": "20c24205",
   "metadata": {
    "tags": []
   },
   "source": [
    "\n",
    "## P7: Résolvez des problèmes en utilisant des algorithmes en Python #0\n",
    "\n",
    "\n",
    "Algorithme glouton\n",
    "\n",
    "### 1. Préparation des données\n",
    "\n"
   ]
  },
  {
   "cell_type": "code",
   "execution_count": 1,
   "id": "bf958757",
   "metadata": {},
   "outputs": [],
   "source": [
    "# modules importés\n",
    "# lecture de fichiers csv et dict colonnes\n",
    "import csv as csv\n",
    "# nettoyage des caractères via expression regex\n",
    "import re as re\n",
    "# mesure du temps passé -> time spend over complexity\n",
    "import time\n",
    "# mesure de l'occupation mémoire space complexity\n",
    "from sys import argv\n"
   ]
  },
  {
   "cell_type": "code",
   "execution_count": 2,
   "id": "9620746e",
   "metadata": {},
   "outputs": [],
   "source": [
    "# constants\n",
    "FILE = \"data/p7-20-shares.csv\" \n",
    "FIELDNAMES = ['name', 'cost', 'profit']\n",
    "STEP = 100 \n",
    "BUDGET = 500 * STEP\n"
   ]
  },
  {
   "cell_type": "code",
   "execution_count": 3,
   "id": "caa07be2-fb27-4620-b70a-1b334c9523b0",
   "metadata": {},
   "outputs": [],
   "source": [
    "# check if file name was passed as parm to the script\n",
    "if __name__ == '__main__':\n",
    "    if len(argv) == 2:\n",
    "        FILE = sys.argv[1]"
   ]
  },
  {
   "cell_type": "code",
   "execution_count": 4,
   "id": "3a9efc65-0b08-488e-86bb-112e2986b3cb",
   "metadata": {},
   "outputs": [],
   "source": [
    " \n",
    "def fn_timer(function):\n",
    "    \"\"\" starts before & stops after the run of the function, a time counter\"\"\"        \n",
    "#    @wraps(function)\n",
    "    def function_timer(*args, **kwargs):\n",
    "        t0 = time.perf_counter_ns()\n",
    "        result = function(*args, **kwargs)\n",
    "        t1 = time.perf_counter_ns()\n",
    "        elapsed = (t1-t0)/1000000000\n",
    "        print(f\"Total time running {function.__name__}: {str(elapsed)}s seconds\")\n",
    "        return result\n",
    "    return function_timer"
   ]
  },
  {
   "cell_type": "code",
   "execution_count": 5,
   "id": "9a0ce587",
   "metadata": {},
   "outputs": [],
   "source": [
    "# strips a string from its weird caracters\n",
    "def clean_char(texte: str) -> str:\n",
    "    \"\"\" on ne conserve que les caractères lisibles \n",
    "    les lettres, chiffres, ponctuations décimales et signes\n",
    "    les valeurs negatives sont acceptées, du point de vue profit.\n",
    "    \"\"\"\n",
    "    texte_propre = re.sub(r\"[^a-zA-Z0-9\\-\\.\\,\\+]\", \"\", texte.replace(',','.'))\n",
    "    return texte_propre"
   ]
  },
  {
   "cell_type": "code",
   "execution_count": 6,
   "id": "ec44e90f",
   "metadata": {},
   "outputs": [
    {
     "name": "stdout",
     "output_type": "stream",
     "text": [
      "nombre d'actions retenues:  20\n"
     ]
    }
   ],
   "source": [
    "\"\"\" lecture, nettoyage et chargement en dict.\n",
    "    les non valeurs NaN sont rejetées.\n",
    "\"\"\"\n",
    "action_dict = {}\n",
    "file_name = FILE\n",
    "try:\n",
    "    with open(file_name, \"r\", newline='', encoding='utf-8') as file:\n",
    "        csv_reader = csv.DictReader(file, fieldnames=FIELDNAMES, \n",
    "                                    delimiter=',', doublequote=False)\n",
    "        # skip the header\n",
    "        next(csv_reader)\n",
    "        compteur_ligne = 0\n",
    "        for idx, line in enumerate(csv_reader):\n",
    "            clean_data = True\n",
    "\n",
    "            if line[FIELDNAMES[0]] != \"\":\n",
    "                cle = clean_char(line[FIELDNAMES[0]])\n",
    "            else:\n",
    "                print(f\" line {idx} had missing share name; dropped.\")\n",
    "                clean_data = False\n",
    "\n",
    "            if line[FIELDNAMES[1]] != \"\":\n",
    "                cout = int(STEP * float(clean_char(line[FIELDNAMES[1]])))\n",
    "                if cout < 0 :\n",
    "                    print(f\" line {idx} had neg cost data; dropped.\")\n",
    "                    cout = 0\n",
    "                    clean_data = False                    \n",
    "                if cout == 0 :\n",
    "                    print(f\" line {idx} had null cost data ; could have been a gift but management decision: dropped.\")\n",
    "                    cout = 0\n",
    "                    clean_data = False                                        \n",
    "            else:\n",
    "                print(f\" line {idx} had missing cost data; dropped.\")\n",
    "                clean_data = False\n",
    "                \n",
    "            if line[FIELDNAMES[2]] != \"\":\n",
    "                gain_percent = int(STEP * float(clean_char(line[FIELDNAMES[2]])))\n",
    "            else:\n",
    "                print(f\" line {idx} had missing profit percentage; dropped.\")\n",
    "                clean_data = False\n",
    "            if gain_percent <= 0:\n",
    "                # TODO: check if to keep or not in any case comment ; as negativ can't be optimum\n",
    "                print(f\"** line {idx} had negative profit percentage ; accepted but pls check. **\")\n",
    "                print('      ',idx,line)    \n",
    "            if clean_data:\n",
    "                action_dict[cle] = (cout, cout*gain_percent/STEP)\n",
    "                compteur_ligne += 1\n",
    "            else:\n",
    "                print('      ',idx,line)    \n",
    "        print(\"nombre d'actions retenues: \", compteur_ligne)\n",
    "except FileNotFoundError:\n",
    "    print(f\" fichier non trouvé, Merci de vérifier son nom dans le répertoire data {file_name} : {FileNotFoundError}\")            \n",
    "except IOError:\n",
    "    print(f\" une erreur est survenue à l'écriture du fichier {file_name} : {IOError}\")      \n"
   ]
  },
  {
   "cell_type": "code",
   "execution_count": 7,
   "id": "2eb5202e",
   "metadata": {},
   "outputs": [],
   "source": [
    "#action_dict\n",
    "                "
   ]
  },
  {
   "cell_type": "markdown",
   "id": "e36c1cff-b7df-4e9a-8bce-5178c618698e",
   "metadata": {},
   "source": [
    "## 2. Algorithme Glouton\n",
    "\n",
    "[Algorithme glouton — Wikipédia](https://fr.wikipedia.org/wiki/Algorithme_glouton)\n",
    "\n",
    "Un **algorithme glouton** (_greedy algorithm_ en anglais, parfois appelé aussi algorithme gourmand, ou goulu) est un [algorithme](https://fr.wikipedia.org/wiki/Algorithmique \"Algorithmique\") qui suit le principe de faire, étape par étape, un choix optimum local, dans l'espoir d'obtenir un résultat optimum global. Par exemple, dans le problème du rendu de monnaie (donner une somme avec le moins possible de pièces), l'algorithme consistant à répéter le choix de la pièce de plus grande valeur qui ne dépasse pas la somme restante est un algorithme glouton.\n",
    "Dans le système de pièces (1, 3, 4), l'algorithme glouton n'est pas optimal, comme le montre l'exemple simple suivant. Il donne pour 6 : 4+1+1, alors que 3+3 est optimal. \n",
    "Mais optimal par rapport à quelle contrainte? à priori le nombre pièce utilisé. Si c'était avoir moins de pièce dans son portemonnaie, la 1ère solution était \"optimale\"."
   ]
  },
  {
   "cell_type": "code",
   "execution_count": 8,
   "id": "aa3fdeb1-c697-4121-a6f7-98c1835ee670",
   "metadata": {
    "tags": []
   },
   "outputs": [],
   "source": []
  },
  {
   "cell_type": "code",
   "execution_count": 11,
   "id": "572bc023-9390-4b23-a26d-bb6855390a75",
   "metadata": {},
   "outputs": [],
   "source": [
    "@fn_timer\n",
    "def algo_glouton(dictio: dict[str,tuple],budget: int) -> (int, list):\n",
    "    \"\"\" Tri par densité de profit càd que les actions au meilleur rapport profit/cout\n",
    "        sont les premières dans l'ordre\n",
    "    \"\"\"\n",
    "    action_trie = dict(sorted(dictio.items(), key=lambda x:x[1][1]/x[1][0], reverse=True))\n",
    "    budget_left = budget\n",
    "    action_selected: list[str] = []\n",
    "    for cle,valeur in action_trie.items():\n",
    "        if budget_left - valeur[0] > 0:\n",
    "            action_selected.append(cle)\n",
    "            budget_left -= valeur[0]\n",
    "    return (budget_left,action_selected)"
   ]
  },
  {
   "cell_type": "code",
   "execution_count": 12,
   "id": "8f46252e-fc84-45b5-8a3f-4068f213210f",
   "metadata": {},
   "outputs": [
    {
     "name": "stdout",
     "output_type": "stream",
     "text": [
      "Total time running algo_glouton: 2.27e-05s seconds\n"
     ]
    }
   ],
   "source": [
    "# V2 : executons la fonction sur les données précédentes\n",
    "reste_budget, action_pf = algo_glouton(action_dict,BUDGET)"
   ]
  },
  {
   "cell_type": "code",
   "execution_count": 16,
   "id": "9f0d1c37-2873-439c-a63a-4a3ec95076c9",
   "metadata": {},
   "outputs": [
    {
     "name": "stdout",
     "output_type": "stream",
     "text": [
      "At cost of  498.0   ['Action-10', 'Action-6', 'Action-13', 'Action-19', 'Action-4', 'Action-20', 'Action-5', 'Action-11', 'Action-18', 'Action-17', 'Action-16', 'Action-14']  actions brought a profit of  97.48\n"
     ]
    }
   ],
   "source": [
    "print('At cost of ',(BUDGET-reste_budget)/STEP, ' ', action_pf, ' actions brought a profit of ',round(sum(list(map(lambda x: action_dict[x][1],action_pf)))/(STEP*STEP),2))"
   ]
  }
 ],
 "metadata": {
  "kernelspec": {
   "display_name": "Python 3 (ipykernel)",
   "language": "python",
   "name": "python3"
  },
  "language_info": {
   "codemirror_mode": {
    "name": "ipython",
    "version": 3
   },
   "file_extension": ".py",
   "mimetype": "text/x-python",
   "name": "python",
   "nbconvert_exporter": "python",
   "pygments_lexer": "ipython3",
   "version": "3.9.7"
  }
 },
 "nbformat": 4,
 "nbformat_minor": 5
}
