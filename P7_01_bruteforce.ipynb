{
 "cells": [
  {
   "cell_type": "markdown",
   "id": "20c24205",
   "metadata": {
    "tags": []
   },
   "source": [
    "\n",
    "## P7: Résolvez des problèmes en utilisant des algorithmes en Python #1\n",
    "\n",
    "Force brute:\n",
    "\n",
    "Le nombre de combinaison est la somme du nombre de combinaisons de k pris parmi n,  k allant de 1 à n.\n",
    "C'est n fois le nombre de combinaisons.\n",
    "$$\n",
    "n \\times {n \\choose k}= n \\times {\\frac {n!}{k!(n-k)!}}  \n",
    "$$\n",
    "\n",
    "\n",
    "  \n",
    "\n",
    "### 1. Préparation des données\n",
    "\n"
   ]
  },
  {
   "cell_type": "code",
   "execution_count": 28,
   "id": "bf958757",
   "metadata": {},
   "outputs": [],
   "source": [
    "# modules importés\n",
    "# lecture de fichiers csv et dict colonnes\n",
    "import csv as csv\n",
    "# nettoyage des caractères via expression regex\n",
    "import re as re\n",
    "# mesure du temps passé -> time spend over complexity\n",
    "import time\n",
    "# mesure de l'occupation mémoire space complexity\n",
    "from sys import getsizeof,argv\n"
   ]
  },
  {
   "cell_type": "code",
   "execution_count": 2,
   "id": "2268135b",
   "metadata": {},
   "outputs": [],
   "source": [
    "# if used does approximate a function to Big_O models\n",
    "if False:\n",
    "    try:\n",
    "        import big_o\n",
    "    except ModuleNotFoundError:\n",
    "        print('cherche',ModuleNotFoundError)\n",
    "        !pip install --upgrade pip\n",
    "        !pip install big_o\n",
    "        import big_o"
   ]
  },
  {
   "cell_type": "code",
   "execution_count": 3,
   "id": "9620746e",
   "metadata": {},
   "outputs": [],
   "source": [
    "# constants\n",
    "FILE = \"data/p7-20-shares.csv\" \n",
    "FIELDNAMES = ['name', 'cost', 'profit']\n",
    "STEP = 100 # 100 times de value\n",
    "BUDGET = 500 * STEP"
   ]
  },
  {
   "cell_type": "code",
   "execution_count": null,
   "id": "caa07be2-fb27-4620-b70a-1b334c9523b0",
   "metadata": {},
   "outputs": [],
   "source": [
    "# check if file name was passed as parm to the script\n",
    "if __name__ == '__main__':\n",
    "    if len(sys.argv) == 2:\n",
    "        FILE = sys.argv[1]"
   ]
  },
  {
   "cell_type": "code",
   "execution_count": 4,
   "id": "3a9efc65-0b08-488e-86bb-112e2986b3cb",
   "metadata": {},
   "outputs": [],
   "source": [
    " \n",
    "def fn_timer(function):\n",
    "    \"\"\" starts before & stops after the run of the function, a time counter\"\"\"        \n",
    "#    @wraps(function)\n",
    "    def function_timer(*args, **kwargs):\n",
    "        t0 = time.perf_counter_ns()\n",
    "        result = function(*args, **kwargs)\n",
    "        t1 = time.perf_counter_ns()\n",
    "        elapsed = (t1-t0)/1000000000\n",
    "        print(f\"Total time running {function.__name__}: {str(elapsed)}s seconds\")\n",
    "        return result\n",
    "    return function_timer"
   ]
  },
  {
   "cell_type": "code",
   "execution_count": 5,
   "id": "9a0ce587",
   "metadata": {},
   "outputs": [],
   "source": [
    "# strips a string from its weird caracters\n",
    "def clean_char(texte: str) -> str:\n",
    "    \"\"\" on ne conserve que les caractères lisibles \n",
    "    les lettres, chiffres, ponctuations décimales et signes\n",
    "    les valeurs negatives sont acceptées, du point de vue profit.\n",
    "    \"\"\"\n",
    "    texte_propre = re.sub(r\"[^a-zA-Z0-9\\-\\.\\,\\+]\", \"\", texte.replace(',','.'))\n",
    "    return texte_propre"
   ]
  },
  {
   "cell_type": "code",
   "execution_count": 6,
   "id": "c3f208a1-411f-4d87-bf20-f2162cd2bb9a",
   "metadata": {},
   "outputs": [
    {
     "name": "stdout",
     "output_type": "stream",
     "text": [
      "python size allocated to an integer is : 28 whereas size to float is : 24\n"
     ]
    }
   ],
   "source": [
    "# get the memory allocation for int & float\n",
    "print('python size allocated to an integer is :', getsizeof(int(13000000)),\n",
    "      'whereas size to float is :', getsizeof(float(13000000.05)))"
   ]
  },
  {
   "cell_type": "code",
   "execution_count": 7,
   "id": "526d972b-b2a5-402a-ae6b-21c37931b371",
   "metadata": {},
   "outputs": [],
   "source": [
    "@fn_timer\n",
    "def measure_walk_thru(liste_numerique: list):\n",
    "    compte = 0\n",
    "    for index,valeur in enumerate(liste_numerique):\n",
    "        compte +=valeur\n",
    "    print(compte)\n",
    "#liste_entier_millions = [int(x) for x in range(100000000)]\n",
    "#liste_flottant_millions = [float(x/2) for x in range(100000000)]"
   ]
  },
  {
   "cell_type": "code",
   "execution_count": 8,
   "id": "361f3cde-0429-4e43-8b7e-1babf9d55333",
   "metadata": {},
   "outputs": [],
   "source": [
    "#measure_walk_thru(liste_entier_millions)"
   ]
  },
  {
   "cell_type": "code",
   "execution_count": 9,
   "id": "6a25f070-7528-4545-a074-f31f84a16a24",
   "metadata": {},
   "outputs": [],
   "source": [
    "#measure_walk_thru(liste_flottant_millions)"
   ]
  },
  {
   "cell_type": "markdown",
   "id": "915495c6",
   "metadata": {},
   "source": [
    "### Le choix du type float ou entier pour les couts et profits a t-il un impact significatif sur l'efficacité de nos algorithme avec cette implémentation de Python?\n",
    "\n",
    "Au niveau de l'allocation mémoire, une comparaison de la mémoire allouée avec sys.getsizeof, nous donne :\n",
    "python size allocated to an integer is : 28 whereas size to float is : 24\n",
    "\n",
    "Au niveau du temps de traitement, une comparaison ne montre pas de diffrérence notable pour 100 milions d'éléments en liste. \n",
    "measure_walk_thru(liste_entier_millions)\n",
    "Total time running measure_walk_thru: 26.040572s seconds\n",
    "measure_walk_thru(liste_flottant_millions)\n",
    "Total time running measure_walk_thru: 30.3793064s seconds\n",
    "\n",
    ":ref:\n",
    "[15. Floating Point Arithmetic: Issues and Limitations — Python 3.10.2 documentation](https://docs.python.org/3/tutorial/floatingpoint.html)\n",
    "Unfortunately, most decimal fractions cannot be represented exactly as binary fractions. A consequence is that, in general, the decimal floating-point numbers you enter are only approximated by the binary floating-point numbers actually stored in the machine.\n",
    "\n",
    "L'algorithme de programmation dynamique utilisé ici (Knapsack ou sac à dos) faire intervenir une matrice de longueur le nombre d'action (soit 957 dans le 1er jeu de test retenu) et de largeur le budget alloué. Les index de déplacement dans ce tableau doivent être des entiers.\n",
    "En multipliant par 100 les montants, nous obtiendrons une plus grande précision des calculs au détriment d'un temps plus long en algo sac à dos (la taile de la matrice est de 957 nb actions x 50000 incréments de budget).\n",
    "\n",
    "C'est un arbitrage par rapport à la demande. S'agissant d'un cabinet financier ils ont besoin de plus de précision et ont les moyens d'acheter un PC plus rapide ;-)\n",
    "\n",
    "\n",
    "\n",
    "### 2. Amélioration des données\n",
    "\n",
    "\n",
    "#### 2.1 Nettoyage technique.\n",
    "On observe les données reçues pour s'assurer de leur qualité.\n",
    "Cas particuliers traités:\n",
    "Cout nul ; il pourrait s'agir d'action gratuite mais nous avons décidé de les supprimer du jeu d'essai.\n",
    "Cout negatif ; supprimé.\n",
    "profit négatif ; conservé car une perte est possible.\n",
    "\n",
    "On aurait pu diminuer encore plus le nombre d'action en suppromant les actions dont le profit =0.\n",
    "\n",
    "#### 2.2 Nettoyage métier.\n",
    "On vérifie que le profit est possiblement un pourcentage du cout et non une valeur.\n",
    "La bourse rapporte 8% en moyenne par an sur les 30 dernières années.\n",
    "\n",
    ":ref:\n",
    "[Palmarès des placements sur trente ans : le triomphe de l’investissement en actions | Le Revenu](https://www.lerevenu.com/placements/palmares-des-placements-sur-trente-ans-le-triomphe-de-linvestissement-en-actions)\n",
    "\n",
    "Entre 1988 et 2018 (chiffres arrêtés au 18 mai), les actions avec dividendes ont rapporté 1.352%, l’immobilier à Paris 402%, l’assurance vie en euros370%, les Sicav monétaires 209%, l’or 179%, le Livret A 135%. À titre d’information, l’inflation sur la période a été de 67%.\n",
    "Hors dividendes, la performance tombe à 461%, ce qui reste très honorable. \n",
    "-> Prenons un ratio de 15%/an.\n",
    "\n",
    "Si plus de 50% des actions ont un ratio profit/cout >> 1,30 alors on estime que le profit est estimé en valeur.\n",
    "\n",
    "Après estimation via Excel, 691 actions au profit < 1,30 et donc 266 > 1.30.\n",
    "On estime que le profit est exprimé en % age du coût.\n",
    "\n",
    "=> Finalement ne pas retirer les petites valeurs de cout qui permettent peut-être de grapiller un peu de profit aux derniers Eur de budget restant.  "
   ]
  },
  {
   "cell_type": "code",
   "execution_count": 12,
   "id": "ec44e90f",
   "metadata": {},
   "outputs": [
    {
     "name": "stdout",
     "output_type": "stream",
     "text": [
      "nombre d'actions retenues:  20\n"
     ]
    }
   ],
   "source": [
    "\"\"\" lecture, nettoyage et chargement en dict.\n",
    "    les non valeurs NaN sont rejetées.\n",
    "\"\"\"\n",
    "action_dict = {}\n",
    "try:\n",
    "    with open(FILE, \"r\", newline='', encoding='utf-8') as file:\n",
    "        csv_reader = csv.DictReader(file, fieldnames=FIELDNAMES, \n",
    "                                    delimiter=',', doublequote=False)\n",
    "        # skip the header\n",
    "        next(csv_reader)\n",
    "        compteur_ligne = 0\n",
    "        for idx, line in enumerate(csv_reader):\n",
    "            clean_data = True\n",
    "\n",
    "            if line[FIELDNAMES[0]] != \"\":\n",
    "                cle = clean_char(line[FIELDNAMES[0]])\n",
    "            else:\n",
    "                print(f\" line {idx} had missing share name; dropped.\")\n",
    "                clean_data = False\n",
    "\n",
    "            if line[FIELDNAMES[1]] != \"\":\n",
    "                cout = int(STEP * float(clean_char(line[FIELDNAMES[1]])))\n",
    "                if cout < 0 :\n",
    "                    print(f\" line {idx} had neg cost data; dropped.\")\n",
    "                    cout = 0\n",
    "                    clean_data = False                    \n",
    "                if cout == 0 :\n",
    "                    print(f\" line {idx} had null cost data ; could have been a gift but management decision: dropped.\")\n",
    "                    cout = 0\n",
    "                    clean_data = False                                        \n",
    "            else:\n",
    "                print(f\" line {idx} had missing cost data; dropped.\")\n",
    "                clean_data = False\n",
    "                \n",
    "            if line[FIELDNAMES[2]] != \"\":\n",
    "                gain_percent = int(STEP * float(clean_char(line[FIELDNAMES[2]])))\n",
    "            else:\n",
    "                print(f\" line {idx} had missing profit percentage; dropped.\")\n",
    "                clean_data = False\n",
    "            if gain_percent <= 0:\n",
    "                # TODO: check if to keep or not in any case comment ; as negativ can't be optimum\n",
    "                print(f\"** line {idx} had negative profit percentage ; accepted but pls check. **\")\n",
    "                print(idx,line)                \n",
    "            if clean_data:\n",
    "                action_dict[cle] = (cout, cout*gain_percent/STEP)\n",
    "                compteur_ligne += 1\n",
    "            else:\n",
    "                print(idx,line)\n",
    "        print(\"nombre d'actions retenues: \", compteur_ligne)\n",
    "except FileNotFoundError:\n",
    "    print(f\" fichier non trouvé, Merci de vérifier son nom dans le répertoire data {file_name} : {FileNotFoundError}\")            \n",
    "except IOError:\n",
    "    print(f\" une erreur est survenue à l'écriture du fichier {file_name} : {IOError}\")      \n"
   ]
  },
  {
   "cell_type": "code",
   "execution_count": null,
   "id": "2eb5202e",
   "metadata": {},
   "outputs": [],
   "source": [
    "#action_dict\n",
    "                "
   ]
  },
  {
   "cell_type": "markdown",
   "id": "3522c75e-e106-48b8-9ae0-ec57da181826",
   "metadata": {},
   "source": [
    "### 3. Résolution en force brute récurrente (pour mémoire):\n",
    "si on considère l'ensemble des 'actions' du porte-feuille potentiel, il existe de multiples combinaisons d''action'. Parmi toutes les combinaisons dont le cout est inférieur au budget d'investissement, l'une d'entre elles est optimale car elle fournit le plus grand profit.\n",
    "\n",
    "\n",
    "Maintenant quand on prend une 'action' au hasard,\n",
    "soit on selectionne cette 'action' comme partie de la solution\n",
    "soit on ne la selectionne pas.\n",
    "\n",
    "Quand on selectionne une 'action', il faut exprimer la valeur et le cout du porte-feuille en fonction de sa valeur avant sélection (pour introduire de la récurrence avec n fonction de n-1).  \n",
    "valeur(pf(i)) = valeur(pf(i-1)) + valeur(action(i))  \n",
    "cout(pf(i)) = cout(pf(i-1)) + cout(action(i))  \n",
    "ou avec un cout exprimé en budget restant:  \n",
    "budget_restant(pf(i)) = budget_restant(pf(i-1)) - cout(action(i))  \n",
    "  \n",
    "Quand on ne selectionne pas une action, la valeur et le poids du porte-feuille sont inchangés.  \n",
    "  \n",
    "Cas d'arrêt de la fonction récurrente : si tout le budget est épuisé ou si toutes les actions ont été considérées.  \n",
    "\n",
    "Formalisons un peu mieux:"
   ]
  },
  {
   "cell_type": "code",
   "execution_count": 26,
   "id": "8195cf17-b264-4a53-bb0d-b81aeecaec48",
   "metadata": {},
   "outputs": [],
   "source": [
    "# recursively check all combinations\n",
    "compte_combinaison = 0\n",
    "def knap_sack_brute(budget, actions, actions_porte_feuille=[]):\n",
    "    global compte_combinaison\n",
    "    # tant qu'il reste des actions non traitées\n",
    "    if actions:\n",
    "        compte_combinaison +=1\n",
    "        # si l'action n'était pas retenue\n",
    "        profit_sans, liste_sans = knap_sack_brute(budget, actions[1:], actions_porte_feuille)\n",
    "        # 1ère action du porte-feuille\n",
    "        val = actions[0]\n",
    "        cout = val[1]\n",
    "        # si son cout est inférieur au budget\n",
    "        if cout <= budget:\n",
    "            # action prise, budget diminuée de son cout, et sous ensemble \n",
    "            #   d'action restante et selection de l'action courante \n",
    "            profit_avec, liste_avec = knap_sack_brute(budget - cout, actions[1:], actions_porte_feuille + [val])\n",
    "            # Choix de l'optimum :\n",
    "            if profit_sans < profit_avec:\n",
    "                return profit_avec, liste_avec\n",
    "\n",
    "        return profit_sans, liste_sans\n",
    "    else:\n",
    "        return sum([i[2] for i in actions_porte_feuille]), actions_porte_feuille\n",
    "# This code was inspired by Algomius"
   ]
  },
  {
   "cell_type": "code",
   "execution_count": 27,
   "id": "25f09666-94d2-4c2f-ae8b-da6911ba103f",
   "metadata": {},
   "outputs": [
    {
     "name": "stdout",
     "output_type": "stream",
     "text": [
      "Un profit de  99.08  pour la selection d'action  ['Action-4', 'Action-5', 'Action-6', 'Action-8', 'Action-10', 'Action-11', 'Action-13', 'Action-18', 'Action-19', 'Action-20']\n",
      "nombre de combinaison explorée 984117\n"
     ]
    }
   ],
   "source": [
    "if True:\n",
    "    liste_actions = [(cle,val[0],val[1]) for cle,val in action_dict.items()]\n",
    "    valeur, action_pf = knap_sack_brute(BUDGET,liste_actions, [])\n",
    "    print('Un profit de ',round(valeur/(STEP*STEP),2), ' pour la selection d\\'action ', [x[0] for x in action_pf])\n",
    "    print('nombre de combinaison explorée', compte_combinaison)"
   ]
  },
  {
   "cell_type": "code",
   "execution_count": 23,
   "id": "9f0d1c37-2873-439c-a63a-4a3ec95076c9",
   "metadata": {},
   "outputs": [
    {
     "name": "stdout",
     "output_type": "stream",
     "text": [
      "At cost of  498.0   ['Action-4', 'Action-5', 'Action-6', 'Action-8', 'Action-10', 'Action-11', 'Action-13', 'Action-18', 'Action-19', 'Action-20']  actions brought a profit of  99.08\n"
     ]
    }
   ],
   "source": [
    "print('At cost of ',round(sum([x[1] for x in action_pf])/STEP,2), ' ', [x[0] for x in action_pf], ' actions brought a profit of ',round(valeur/(STEP*STEP),2))"
   ]
  },
  {
   "cell_type": "code",
   "execution_count": 15,
   "id": "12585f01-ffb3-4300-a580-8cb706b6965e",
   "metadata": {},
   "outputs": [],
   "source": [
    "@fn_timer\n",
    "def measure_brute(budget, liste):\n",
    "    return knap_sack_brute(budget,liste,[])"
   ]
  },
  {
   "cell_type": "code",
   "execution_count": 16,
   "id": "cdc09b6e-b9ff-46dc-bc30-2e6a15d0b6f1",
   "metadata": {},
   "outputs": [
    {
     "name": "stdout",
     "output_type": "stream",
     "text": [
      "Total time running measure_brute: 1.535511s seconds\n"
     ]
    },
    {
     "data": {
      "text/plain": [
       "(990800.0,\n",
       " [('Action-4', 7000, 140000.0),\n",
       "  ('Action-5', 6000, 102000.0),\n",
       "  ('Action-6', 8000, 200000.0),\n",
       "  ('Action-8', 2600, 28600.0),\n",
       "  ('Action-10', 3400, 91800.0),\n",
       "  ('Action-11', 4200, 71400.0),\n",
       "  ('Action-13', 3800, 87400.0),\n",
       "  ('Action-18', 1000, 14000.0),\n",
       "  ('Action-19', 2400, 50400.0),\n",
       "  ('Action-20', 11400, 205200.0)])"
      ]
     },
     "execution_count": 16,
     "metadata": {},
     "output_type": "execute_result"
    }
   ],
   "source": [
    "liste_actions = [(cle,val[0],val[1]) for cle,val in action_dict.items()]\n",
    "measure_brute(BUDGET,liste_actions)"
   ]
  }
 ],
 "metadata": {
  "kernelspec": {
   "display_name": "Python 3 (ipykernel)",
   "language": "python",
   "name": "python3"
  },
  "language_info": {
   "codemirror_mode": {
    "name": "ipython",
    "version": 3
   },
   "file_extension": ".py",
   "mimetype": "text/x-python",
   "name": "python",
   "nbconvert_exporter": "python",
   "pygments_lexer": "ipython3",
   "version": "3.9.7"
  }
 },
 "nbformat": 4,
 "nbformat_minor": 5
}
